{
 "cells": [
  {
   "cell_type": "markdown",
   "id": "ac6b6673",
   "metadata": {},
   "source": [
    "# Tampa Bay Tech Events List generator"
   ]
  },
  {
   "cell_type": "markdown",
   "id": "705bb670",
   "metadata": {},
   "source": [
    "## Imports"
   ]
  },
  {
   "cell_type": "code",
   "execution_count": null,
   "id": "009dae03-1dbb-4019-9a60-b52dea0ab9a1",
   "metadata": {},
   "outputs": [],
   "source": [
    "import os\n",
    "from datetime import datetime, timedelta\n",
    "from time import mktime, sleep\n",
    "from urllib.parse import urlparse, urlunparse\n",
    "\n",
    "import ipywidgets as widgets\n",
    "import pyperclip\n",
    "from dotenv import load_dotenv\n",
    "from IPython.display import Audio, display\n",
    "from selenium import webdriver\n",
    "from selenium.webdriver.chrome.service import Service as ChromeService\n",
    "from selenium.webdriver.common.by import By\n",
    "from selenium.webdriver.support import expected_conditions as EC\n",
    "from selenium.webdriver.support.ui import WebDriverWait\n",
    "from webdriver_manager.chrome import ChromeDriverManager"
   ]
  },
  {
   "cell_type": "markdown",
   "id": "0b4fa5f7",
   "metadata": {},
   "source": [
    "## Section 1: Create the blog post\n",
    "\n",
    "The first step in creating the weekly list of Tampa Bay tech events is to create a new post in _Global Nerdy_ and generate its basic content, which includes:\n",
    "\n",
    "- **Blog post title.** Always has the same format, featuring the start and end dates of the week in question: *Tampa Bay tech, entrepreneur, and nerd events list (Monday, {month} {date} – Sunday, {month}, {date})*.\n",
    "- **A blank line for the hero image.** This is usually a picture of some place in the Tampa Bay area, with the title _Tampa Bay Tech, Entrepreneur, and Nerd Events_. I make the hero image in Canva, upload it to the blog, and then add it to the post. This is the last thing I do before publishing the post. I expect this will remain a manual process for some time.\n",
    "- **Intro text.** This explains that the post is a list of events for Tampa Bay’s tech scene, and the text includes the dates of the start and end of the week.\n",
    "- **The _This week’s events_ list.** This is the _This week’s events_ heading, followed by a bullet-point list of the dates of the days of the week. Each date in the list is linked to a corresponding anchor so that the reader can click on the _Tuesday_ link and be immediately taken to the post’s _Tuesday_ heading.\n",
    "- **Date headings.** This is a set of &lt;h3&gt; headings, one for each day of the week. Each heading has a designated space where we’ll paste the table of events for that day.\n",
    "- **Outro text.** This is the text that appears at the end of each of these lists. It explains how I put the list together and what I consider worthy of including in the list."
   ]
  },
  {
   "cell_type": "code",
   "execution_count": null,
   "id": "f0b59919",
   "metadata": {},
   "outputs": [],
   "source": [
    "def generate_week_list_and_date_headings(start_date_str=None):\n",
    "\n",
    "    if start_date_str is None or start_date_str.strip() == \"\":\n",
    "        start_date = datetime.now()\n",
    "    else:\n",
    "        try:\n",
    "            start_date = datetime.strptime(start_date_str, \"%Y-%m-%d\")\n",
    "        except ValueError:\n",
    "            print(\"Invalid date format. Please use YYYY-MM-DD.\")\n",
    "            return\n",
    "\n",
    "    # Ensure the start date is next Monday; if not, move it to the next Monday\n",
    "    while start_date.weekday() != 0:  # 0 corresponds to Monday\n",
    "        start_date += timedelta(days=1)\n",
    "\n",
    "    # Print dates from Monday to Sunday and generate abbreviated strings\n",
    "    bullet_list = \"<ul>\\n\"\n",
    "    headings_list = \"\"\n",
    "   \n",
    "    for i in range(7):\n",
    "        current_date = start_date + timedelta(days=i)\n",
    "        full_date_str = current_date.strftime(\"%A, %B %d\") # On Windows, the format string should be \"%A, %B %#d\"\n",
    "        abbr_date_str = current_date.strftime(\"%a-%b-%d\").lower()\n",
    "       \n",
    "        bullet_list += f\"\"\"<li><a href=\"#{abbr_date_str}\">{full_date_str}</a></li>\\n\"\"\"\n",
    "        headings_list += f\"\"\"<a name=\"{abbr_date_str}\"></a>\\n<h3>{full_date_str}</h3>\\nddd\\n\\n\"\"\"\n",
    "\n",
    "    bullet_list += \"</ul>\"\n",
    "\n",
    "    return f\"{bullet_list}\\n\\n{headings_list}\""
   ]
  },
  {
   "cell_type": "markdown",
   "id": "c458dda8",
   "metadata": {},
   "source": [
    "## Section 2: Scrape Meetup.com and generate the tables"
   ]
  },
  {
   "cell_type": "markdown",
   "id": "44310173-4e46-447e-856b-b8c23b4a7930",
   "metadata": {},
   "source": [
    "### Open a Selenium-controlled browser window"
   ]
  },
  {
   "cell_type": "code",
   "execution_count": 41,
   "id": "4077c494",
   "metadata": {},
   "outputs": [],
   "source": [
    "driver = webdriver.Chrome(service=ChromeService(ChromeDriverManager().install()))\n",
    "driver.get('https://www.facebook.com/v11.0/dialog/oauth?client_id=2403839689&redirect_uri=https%3A%2F%2Fwww.meetup.com%2Fties2%2F&scope=email%20user_friends&response_type=token&state=returnUri%3Dhttps%253A%252F%252Fwww.meetup.com%252Fhome%26facebook%3Dtrue')\n",
    "\n",
    "load_dotenv()\n",
    "USERNAME = os.getenv(\"USERNAME\")\n",
    "PASSWORD = os.getenv(\"PASSWORD\")\n",
    "\n",
    "username_field = driver.find_element(By.ID, \"email\")\n",
    "username_field.send_keys(USERNAME)\n",
    "sleep(2)\n",
    "password_field = driver.find_element(By.ID, \"pass\")\n",
    "password_field.send_keys(PASSWORD)\n",
    "sleep(2)\n",
    "login_button = driver.find_element(By.ID, \"loginbutton\")\n",
    "login_button.click()\n",
    "sleep(8)\n",
    "continue_button = driver.find_element(By.CLASS_NAME, \"x9f619\")\n",
    "continue_button.click()"
   ]
  },
  {
   "cell_type": "markdown",
   "id": "95cef50b-b331-488c-ab13-aa4207fdf39e",
   "metadata": {},
   "source": [
    "### Retrieve the list of group and meetup names to ignore"
   ]
  },
  {
   "cell_type": "code",
   "execution_count": 42,
   "id": "46a2caa7-a215-473b-bfaa-c79757b6f647",
   "metadata": {},
   "outputs": [],
   "source": [
    "def remove_events_with_ignore_names(events):\n",
    "    with open(\"./ignore_names.txt\") as ignore_names_file:\n",
    "        raw_ignore_names = ignore_names_file.readlines()\n",
    "    NAMES_TO_IGNORE = [raw_ignore_name.strip().lower() for raw_ignore_name in raw_ignore_names]\n",
    "\n",
    "    result_list = []\n",
    "    \n",
    "    for event in events:\n",
    "        is_in_list = True\n",
    "        for name_to_ignore in NAMES_TO_IGNORE:\n",
    "            if name_to_ignore in event['group_name'].lower() or name_to_ignore in event['event_name'].lower():\n",
    "                is_in_list = False\n",
    "                break\n",
    "        if is_in_list:\n",
    "            result_list.append(event)\n",
    "        \n",
    "    return result_list"
   ]
  },
  {
   "cell_type": "markdown",
   "id": "b294af3d",
   "metadata": {},
   "source": [
    "### The checklist generator: _Run me after logging in!_"
   ]
  },
  {
   "cell_type": "code",
   "execution_count": 43,
   "id": "ac9e82b4",
   "metadata": {},
   "outputs": [],
   "source": [
    "def event_urls_from_category_or_keyword_page(category_page_url):\n",
    "    \"\"\"\n",
    "    Given the URL of a Meetup category page, this function returns a list\n",
    "    of the URLs of the event pages listed on that category page.\n",
    "    \"\"\"\n",
    "    \n",
    "    def remove_query_parameters(url):\n",
    "        parsed_url = urlparse(url)\n",
    "        clean_url = urlunparse((parsed_url.scheme, parsed_url.netloc, parsed_url.path, parsed_url.params, '', ''))\n",
    "        return clean_url\n",
    "    \n",
    "    CONTAINER_ELEMENT_CSS_SELECTOR = \"div[class='max-w-narrow']\"\n",
    "    CONTAINER_ELEMENT_CSS_SELECTOR_ALTERNATE = \"div[class='grid grid-cols-1 gap-3 sm:grid-cols-2 sm:gap-6 sm:px-6 sm:pt-0 lg:grid-cols-3 xl:grid-cols-4']\"\n",
    "    EVENT_ELEMENT_CSS_SELECTOR = \"div[class='flex w-full flex-col items-center']\"\n",
    "    \n",
    "    event_urls = []\n",
    "\n",
    "    driver.get(category_page_url)\n",
    "    wait = WebDriverWait(driver, 2)\n",
    "    \n",
    "    # The container element is a <div> containing one or more event items.\n",
    "    try:\n",
    "        container_element = wait.until(EC.presence_of_element_located((By.CSS_SELECTOR, \"div.max-w-narrow > div\")))\n",
    "        print(f\"Found CONTAINER_ELEMENT — tag: {container_element.tag_name}, class: {container_element.get_attribute('class')}\")\n",
    "    except:\n",
    "        try:\n",
    "            container_element = wait.until(EC.presence_of_element_located((By.CSS_SELECTOR, CONTAINER_ELEMENT_CSS_SELECTOR_ALTERNATE)))\n",
    "            print(f\"Found CONTAINER_ELEMENT — tag: {container_element.tag_name}, class: {container_element.get_attribute('class')}\")\n",
    "        except:\n",
    "            print(\"Failed to find main element.\")\n",
    "            return []\n",
    "    \n",
    "    event_elements = container_element.find_elements(By.CSS_SELECTOR, EVENT_ELEMENT_CSS_SELECTOR)\n",
    "    elements_count = len(event_elements)\n",
    "    print(f\"Found {elements_count} elements.\")\n",
    "\n",
    "    for event_element in event_elements:\n",
    "        event_link_element = event_element.find_element(By.TAG_NAME, \"a\")\n",
    "        event_url = event_link_element.get_attribute(\"href\")\n",
    "        event_urls.append(remove_query_parameters(event_url))\n",
    "        \n",
    "    return list(set(event_urls))\n",
    "\n",
    "def event_details_from_event_page(event_url):\n",
    "    \"\"\"\n",
    "    Given the URL of a Meetup event page, this function returns a dictionary\n",
    "    containing the following data from that page:\n",
    "\n",
    "    - url\n",
    "    - event_name\n",
    "    - group_name\n",
    "    - location\n",
    "    - time\n",
    "    - datetime\n",
    "    \"\"\"\n",
    "    event_dict = {\n",
    "        'event_url'    : event_url,\n",
    "        'event_name'   : \"\",\n",
    "        'group_name'   : \"\",\n",
    "        'group_url'    : \"\",\n",
    "        'location'     : \"\",\n",
    "        'display_time' : \"\",\n",
    "        'datetime'     : \"\",\n",
    "    }\n",
    "\n",
    "    driver.get(event_url)\n",
    "    sleep(5)\n",
    "\n",
    "    EVENT_NAME_ELEMENT_CSS_SELECTOR = \"h1[class='overflow-hidden overflow-ellipsis text-3xl font-bold leading-snug']\"\n",
    "    GROUP_NAME_LINK_ELEMENT_CSS_SELECTOR = \"a[id='event-group-mobile-link']\"\n",
    "    GROUP_NAME_ELEMENT_CSS_SELECTOR = \"div[class='w-4/5 text-xl font-semibold false']\"\n",
    "    LOCATION_ELEMENT_CSS_SELECTOR = \"a[class='hover:text-viridian hover:no-underline']\"\n",
    "    DISPLAY_TIME_ELEMENT_CSS_SELECTOR = \"time[class='block']\"\n",
    "\n",
    "    try:\n",
    "        event_name = driver.find_element(By.CSS_SELECTOR, EVENT_NAME_ELEMENT_CSS_SELECTOR).text\n",
    "        event_dict['event_name'] = event_name\n",
    "    except:\n",
    "        print(f\"Couldn’t find event name element for event at {event_url}.\")\n",
    "        print(\"Returning empty dict.\")\n",
    "        return {}\n",
    "\n",
    "    try:\n",
    "        group_name_link_element = driver.find_element(By.CSS_SELECTOR, GROUP_NAME_LINK_ELEMENT_CSS_SELECTOR)\n",
    "        group_name_element = driver.find_element(By.CSS_SELECTOR, GROUP_NAME_ELEMENT_CSS_SELECTOR)\n",
    "    except:\n",
    "        print(f\"Couldn’t find group name link element or group name element for event at {event_url}.\")\n",
    "        print(\"Returning empty dict.\")\n",
    "        return {}\n",
    "    else:\n",
    "        try:\n",
    "            group_name = group_name_element.text.splitlines()[0]\n",
    "        except:\n",
    "            group_name = \" \"\n",
    "        event_dict['group_name'] = group_name\n",
    "        group_url = group_name_link_element.get_attribute('href')\n",
    "        event_dict['group_url'] = group_url\n",
    "        \n",
    "    try:\n",
    "        location_element = driver.find_element(By.CSS_SELECTOR, LOCATION_ELEMENT_CSS_SELECTOR)\n",
    "        location = location_element.text\n",
    "    except:\n",
    "        location = \"Online\"\n",
    "    event_dict['location'] = location\n",
    "    \n",
    "    try:\n",
    "        display_time_element = driver.find_element(By.CSS_SELECTOR, DISPLAY_TIME_ELEMENT_CSS_SELECTOR)\n",
    "    except:\n",
    "        print(f\"Couldn’t find display time element for event at {event_url}.\")\n",
    "        print(\"Returning empty dict.\")\n",
    "        return {}\n",
    "    else:\n",
    "        try:\n",
    "            display_time = display_time_element.text.splitlines()[1]\n",
    "        except:\n",
    "            display_time = display_time_element.text\n",
    "    event_dict['display_time'] = display_time\n",
    "    datetime = display_time_element.get_attribute('datetime')\n",
    "    event_dict['datetime'] = datetime\n",
    "\n",
    "    print(f\"{event_dict}\\n\")\n",
    "    return event_dict\n",
    "\n",
    "def meetup_events(year, month, day):\n",
    "    events = []\n",
    "    \n",
    "    BASE_URL = 'https://www.meetup.com/find'\n",
    "    KEYWORDS = {\n",
    "        'programming':             'programming',\n",
    "        'data%20science':          'data science',\n",
    "        'project%20management':    'project management',\n",
    "        'security':                'security',\n",
    "        'cryptocurrency':          'cryptocurrency',\n",
    "        'cyber':                   'cyber',\n",
    "        'agile':                   'agile',\n",
    "        'entrepreneur':            'entrepreneur',\n",
    "        'startup':                 'startup',\n",
    "        'artificial intelligence': 'artificial intelligence'\n",
    "    }\n",
    "    CATEGORIES = {\n",
    "        '546': 'Technology',\n",
    "        '405': 'Career & Business',\n",
    "        '604': 'Community & Environment',\n",
    "        '535': 'Games',\n",
    "        '571': 'Hobbies & Passions',\n",
    "        '436': 'Science & Education',\n",
    "        '652': 'Social Activities',\n",
    "        '467': 'Writing',\n",
    "    }\n",
    "\n",
    "    url_date = f'{year}-{month:02d}-{day:02d}'\n",
    "    start_date_parameter = f'customStartDate={url_date}T00%3A00-05%3A00'\n",
    "    end_date_parameter = f'customEndDate={url_date}T23%3A59-05%3A00'\n",
    "    parameters = f'source=EVENTS&{start_date_parameter}&{end_date_parameter}&distance=hundredMiles&location=us--fl--Tampa'\n",
    "\n",
    "    # for keyword in KEYWORDS:\n",
    "    #     print(f\"Reading {KEYWORDS[keyword]} keyword page...\")\n",
    "    #     keyword_page_url = f'{BASE_URL}/?{parameters}&keywords={keyword}'\n",
    "    #     event_urls = event_urls_from_category_or_keyword_page(keyword_page_url)\n",
    "    #     for event_url in event_urls:\n",
    "    #         events.append(event_details_from_event_page(event_url))\n",
    "        \n",
    "    for category in CATEGORIES:\n",
    "        print(f\"Reading {CATEGORIES[category]} category page...\")\n",
    "        category_page_url = f'{BASE_URL}/?{parameters}&categoryId={category}'\n",
    "        event_urls = event_urls_from_category_or_keyword_page(category_page_url)\n",
    "        for event_url in event_urls:\n",
    "            events.append(event_details_from_event_page(event_url))\n",
    "        \n",
    "    return events\n",
    "\n",
    "def sorted_events(events):\n",
    "    \"\"\"\n",
    "    Given a list of event objects, this method returns a new list\n",
    "    containing the event objects sorted in chronological order,\n",
    "    based on the datetime value in each event’s 'datetime' key.\n",
    "    \"\"\"\n",
    "    return sorted(events, key=lambda event:event['datetime'])\n",
    "\n",
    "def event_checkbox_description(event):\n",
    "    return f\"{event['group_name']}: {event['event_name']}\\n\" + \\\n",
    "           f\"{event['display_time']}\\n\"\n",
    "\n",
    "def build_checklist(events):\n",
    "    checklist = {}\n",
    "\n",
    "    for event in events:\n",
    "        checkbox = widgets.Checkbox(\n",
    "            value = True,\n",
    "            description = event_checkbox_description(event),\n",
    "            layout=widgets.Layout(width=\"800px\")\n",
    "        )\n",
    "        checklist[checkbox] = event\n",
    "        \n",
    "    return checklist\n",
    "\n",
    "def display_checklist(checklist):\n",
    "    for item in checklist:\n",
    "        \n",
    "        event = checklist[item]\n",
    "        url = event['event_url']\n",
    "        link = widgets.HTML(\n",
    "            value = f\"<a href={url} target=\\\"_blank\\\">link</a>\"\n",
    "        )\n",
    "        \n",
    "        display(widgets.HBox([item, link]))\n",
    "\n",
    "\n",
    "def remove_duplicate_events(events):\n",
    "    result_event_urls = []\n",
    "    result_events = []\n",
    "    \n",
    "    for event in events:\n",
    "        if event['event_url'] in result_event_urls:\n",
    "            continue\n",
    "        else:\n",
    "            result_event_urls.append(event['event_url'])\n",
    "            result_events.append(event)\n",
    "            \n",
    "    return result_events\n",
    "        \n",
    "def generate_checklist(year, month, day):\n",
    "    print(\"generate_checklist()\")\n",
    "    global checklist\n",
    "    \n",
    "    # date = date_picker.value\n",
    "    # year = date.year\n",
    "    # month = date.month\n",
    "    # day = date.day\n",
    "    \n",
    "    initial_events = meetup_events(year, month, day) #+ eventbrite_events(year, month, day)\n",
    "    print(\"Generated initial events\")\n",
    "    \n",
    "    sorted_filtered_events = sorted_events(\n",
    "        remove_events_with_ignore_names(remove_duplicate_events(initial_events))\n",
    "    )\n",
    "    checklist = build_checklist(sorted_filtered_events)\n",
    "    display_checklist(checklist)"
   ]
  },
  {
   "cell_type": "code",
   "execution_count": 45,
   "id": "0068c44d-c1e1-4fa4-a4fd-c224cbf3c111",
   "metadata": {
    "scrolled": true
   },
   "outputs": [
    {
     "name": "stdout",
     "output_type": "stream",
     "text": [
      "generate_checklist()\n",
      "Reading Technology category page...\n",
      "Found CONTAINER_ELEMENT — tag: div, class: grid grid-cols-1 gap-3 sm:grid-cols-2 sm:gap-6 sm:px-6 sm:pt-0 lg:grid-cols-3 xl:grid-cols-4\n",
      "Found 4 elements.\n",
      "{'event_url': 'https://www.meetup.com/makerspaces-pinellas-meetup-group/events/308131954/', 'event_name': 'Intro to Sewing', 'group_name': 'Makerspaces Pinellas Meetup Group', 'group_url': 'https://www.meetup.com/makerspaces-pinellas-meetup-group/?eventOrigin=event_home_page', 'location': 'MakerSpace St. Petersburg', 'display_time': '2:00 PM to 4:00 PM EDT', 'datetime': '2025-06-22T14:00:00-04:00'}\n",
      "\n",
      "{'event_url': 'https://www.meetup.com/tampa-hackerspace/events/308244231/', 'event_name': 'Sew Awesome! (Textile Arts & Crafts)', 'group_name': 'Tampa Hackerspace', 'group_url': 'https://www.meetup.com/tampa-hackerspace/?eventOrigin=event_home_page', 'location': 'Tampa Hackerspace West', 'display_time': '5:30 PM to 8:30 PM EDT', 'datetime': '2025-06-22T17:30:00-04:00'}\n",
      "\n",
      "{'event_url': 'https://www.meetup.com/tampa-hackerspace/events/307841382/', 'event_name': 'Woodshop Safety (Members Only)', 'group_name': 'Tampa Hackerspace', 'group_url': 'https://www.meetup.com/tampa-hackerspace/?eventOrigin=event_home_page', 'location': 'Tampa Hackerspace West', 'display_time': '1:00 PM to 4:00 PM EDT', 'datetime': '2025-06-22T13:00:00-04:00'}\n",
      "\n",
      "{'event_url': 'https://www.meetup.com/tampa-hackerspace/events/307792541/', 'event_name': \"Let's Learn to Turn Pens!\", 'group_name': 'Tampa Hackerspace', 'group_url': 'https://www.meetup.com/tampa-hackerspace/?eventOrigin=event_home_page', 'location': 'Tampa Hackerspace West', 'display_time': '6:00 PM to 9:00 PM EDT', 'datetime': '2025-06-22T18:00:00-04:00'}\n",
      "\n",
      "Reading Career & Business category page...\n",
      "Found CONTAINER_ELEMENT — tag: div, class: grid grid-cols-1 gap-3 sm:grid-cols-2 sm:gap-6 sm:px-6 sm:pt-0 lg:grid-cols-3 xl:grid-cols-4\n",
      "Found 4 elements.\n",
      "{'event_url': 'https://www.meetup.com/monster-learn-to-survive-the-next-market-crash/events/308240115/', 'event_name': 'Learn-To-Trade Futures (Free Livestream)', 'group_name': 'Learn-To-Trade Crypto (Free Livestream)', 'group_url': 'https://www.meetup.com/monster-learn-to-survive-the-next-market-crash/?eventOrigin=event_home_page', 'location': 'Online', 'display_time': '7:00 PM to 8:00 PM EDT', 'datetime': '2025-06-22T19:00:00-04:00'}\n",
      "\n",
      "{'event_url': 'https://www.meetup.com/monster-learn-to-trade-forex-and-cryptocurrency/events/308240074/', 'event_name': 'Learn-To-Trade Forex (Free Livestream)', 'group_name': 'Learn-To-Trade Forex (Free Livestream)', 'group_url': 'https://www.meetup.com/monster-learn-to-trade-forex-and-cryptocurrency/?eventOrigin=event_home_page', 'location': 'Online', 'display_time': '7:00 PM to 8:00 PM EDT', 'datetime': '2025-06-22T19:00:00-04:00'}\n",
      "\n",
      "{'event_url': 'https://www.meetup.com/make-money-online/events/308244412/', 'event_name': 'Make Money Online', 'group_name': 'Make Money Online', 'group_url': 'https://www.meetup.com/make-money-online/?eventOrigin=event_home_page', 'location': 'Online', 'display_time': '7:00 PM to 8:00 PM EDT', 'datetime': '2025-06-22T19:00:00-04:00'}\n",
      "\n",
      "{'event_url': 'https://www.meetup.com/toastmastersdivisione/events/308027295/', 'event_name': 'Find Your Funny Toastmasters', 'group_name': 'Toastmasters Division E', 'group_url': 'https://www.meetup.com/toastmastersdivisione/?eventOrigin=event_home_page', 'location': 'Online', 'display_time': '6:30 PM to 8:00 PM EDT', 'datetime': '2025-06-22T18:30:00-04:00'}\n",
      "\n",
      "Reading Community & Environment category page...\n",
      "Failed to find main element.\n",
      "Reading Games category page...\n",
      "Found CONTAINER_ELEMENT — tag: div, class: grid grid-cols-1 gap-3 sm:grid-cols-2 sm:gap-6 sm:px-6 sm:pt-0 lg:grid-cols-3 xl:grid-cols-4\n",
      "Found 9 elements.\n",
      "{'event_url': 'https://www.meetup.com/video-game-book-club-meet-up/events/308097461/', 'event_name': 'Dunedin-Palm Harbor Video Game Book Club - June Meetup: Ori and the Blind Forest', 'group_name': 'Dunedin-Palm Harbor Video Game Book Club', 'group_url': 'https://www.meetup.com/video-game-book-club-meet-up/?eventOrigin=event_home_page', 'location': 'HOB Brewing', 'display_time': '2:00 PM to 4:00 PM EDT', 'datetime': '2025-06-22T14:00:00-04:00'}\n",
      "\n",
      "{'event_url': 'https://www.meetup.com/srq-newbie-mahjong-gathering/events/307773813/', 'event_name': 'JUNE DOT, CRAK, BAM GATHERING', 'group_name': 'SRQ Mahjong Gathering', 'group_url': 'https://www.meetup.com/srq-newbie-mahjong-gathering/?eventOrigin=event_home_page', 'location': 'The GoodEarth', 'display_time': '12:30 PM to 2:30 PM EDT', 'datetime': '2025-06-22T12:30:00-04:00'}\n",
      "\n",
      "{'event_url': 'https://www.meetup.com/srqgames/events/308232975/', 'event_name': 'Venice Strategy Board Gamers', 'group_name': 'Board Games and Card Games in Sarasota & Bradenton', 'group_url': 'https://www.meetup.com/srqgames/?eventOrigin=event_home_page', 'location': 'Venice', 'display_time': '12:00 PM to 6:00 PM EDT', 'datetime': '2025-06-22T12:00:00-04:00'}\n",
      "\n",
      "{'event_url': 'https://www.meetup.com/chessrepublic/events/308235213/', 'event_name': 'Sunday Chess at Wholefoods in Midtown, Tampa', 'group_name': 'Chess Republic', 'group_url': 'https://www.meetup.com/chessrepublic/?eventOrigin=event_home_page', 'location': 'Whole Foods Market', 'display_time': '2:00 PM to 5:00 PM EDT', 'datetime': '2025-06-22T14:00:00-04:00'}\n",
      "\n",
      "{'event_url': 'https://www.meetup.com/lottery-gambling-sports-betting-meetup-group/events/308237896/', 'event_name': 'Mastering Pick 3, Pick 4, and Pick 5: Uncover Hidden Patterns in Lottery Data', 'group_name': 'Unlock Lottery Data Patterns in Pick 3 | Pick 4 | Pick 5', 'group_url': 'https://www.meetup.com/lottery-gambling-sports-betting-meetup-group/?eventOrigin=event_home_page', 'location': 'Online', 'display_time': '3:00 PM to 5:00 PM EDT', 'datetime': '2025-06-22T15:00:00-04:00'}\n",
      "\n",
      "{'event_url': 'https://www.meetup.com/seffner-d-d-meetup/events/308238338/', 'event_name': 'Lankhmar: City of Adventure', 'group_name': 'Brandon and Seffner area AD&D and OSR Group', 'group_url': 'https://www.meetup.com/seffner-d-d-meetup/?eventOrigin=event_home_page', 'location': 'Nerdy Needs', 'display_time': '5:00 PM to 9:00 PM EDT', 'datetime': '2025-06-22T17:00:00-04:00'}\n",
      "\n",
      "{'event_url': 'https://www.meetup.com/critical-hit-games/events/308205130/', 'event_name': 'BattleTech: Clan Jade Falcon Campaign (Tukayyid) - Mission 1: The Deadly River', 'group_name': 'Critical Hit Games', 'group_url': 'https://www.meetup.com/critical-hit-games/?eventOrigin=event_home_page', 'location': 'Critical Hit Games', 'display_time': '1:00 PM to 4:00 PM EDT', 'datetime': '2025-06-22T13:00:00-04:00'}\n",
      "\n",
      "{'event_url': 'https://www.meetup.com/critical-hit-games/events/308235006/', 'event_name': 'D&D Adventurers League', 'group_name': 'Critical Hit Games', 'group_url': 'https://www.meetup.com/critical-hit-games/?eventOrigin=event_home_page', 'location': 'Critical Hit Games', 'display_time': '2:00 PM to 7:30 PM EDT', 'datetime': '2025-06-22T14:00:00-04:00'}\n",
      "\n",
      "{'event_url': 'https://www.meetup.com/sunshine-games/events/308238345/', 'event_name': 'Sunday Pokemon League', 'group_name': 'Sunshine Games', 'group_url': 'https://www.meetup.com/sunshine-games/?eventOrigin=event_home_page', 'location': 'Sunshine Games | Magic the Gathering, Pokémon, Yu-Gi-Oh!', 'display_time': '4:00 PM to 8:00 PM EDT', 'datetime': '2025-06-22T16:00:00-04:00'}\n",
      "\n",
      "Reading Hobbies & Passions category page...\n",
      "Found CONTAINER_ELEMENT — tag: div, class: grid grid-cols-1 gap-3 sm:grid-cols-2 sm:gap-6 sm:px-6 sm:pt-0 lg:grid-cols-3 xl:grid-cols-4\n",
      "Found 3 elements.\n",
      "{'event_url': 'https://www.meetup.com/gengeek/events/308230931/', 'event_name': '28 Years Later @', 'group_name': 'Gen Geek', 'group_url': 'https://www.meetup.com/gengeek/?eventOrigin=event_home_page', 'location': 'AMC Veterans 24', 'display_time': '10:00 AM to 12:00 PM EDT', 'datetime': '2025-06-22T10:00:00-04:00'}\n",
      "\n",
      "{'event_url': 'https://www.meetup.com/soberish-book-club/events/307395238/', 'event_name': \"Discussing Jesus' Son by Denis Johnson\", 'group_name': 'Online Soberish Book Club', 'group_url': 'https://www.meetup.com/soberish-book-club/?eventOrigin=event_home_page', 'location': 'Online', 'display_time': '10:00 AM to 11:00 AM EDT', 'datetime': '2025-06-22T10:00:00-04:00'}\n",
      "\n",
      "{'event_url': 'https://www.meetup.com/tampa-hooked-on-crochet-group/events/308073223/', 'event_name': 'Crochet at the Beach!', 'group_name': 'Tampa Hooked on Crochet Group', 'group_url': 'https://www.meetup.com/tampa-hooked-on-crochet-group/?eventOrigin=event_home_page', 'location': 'Honeymoon Island State Park', 'display_time': '10:00 AM to 12:00 PM EDT', 'datetime': '2025-06-22T10:00:00-04:00'}\n",
      "\n",
      "Reading Science & Education category page...\n",
      "Failed to find main element.\n",
      "Reading Social Activities category page...\n",
      "Found CONTAINER_ELEMENT — tag: div, class: grid grid-cols-1 gap-3 sm:grid-cols-2 sm:gap-6 sm:px-6 sm:pt-0 lg:grid-cols-3 xl:grid-cols-4\n",
      "Found 12 elements.\n",
      "{'event_url': 'https://www.meetup.com/tampa-dining-out-ladies-30-s-40-s/events/307273468/', 'event_name': 'Brunch at Counter Culture', 'group_name': \"Tampa Dining Out Ladies (30's & 40's)\", 'group_url': 'https://www.meetup.com/tampa-dining-out-ladies-30-s-40-s/?eventOrigin=event_home_page', 'location': 'Counter Culture', 'display_time': '11:00 AM to 1:00 PM EDT', 'datetime': '2025-06-22T11:00:00-04:00'}\n",
      "\n",
      "{'event_url': 'https://www.meetup.com/dog-park-on-dundee-road-must-have-pets-shot-record-5-00/events/308357617/', 'event_name': 'Sunday Brunch at Bok Tower', 'group_name': \"Winter Haven 40's and Up Social Group.\", 'group_url': 'https://www.meetup.com/dog-park-on-dundee-road-must-have-pets-shot-record-5-00/?eventOrigin=event_home_page', 'location': 'Bok Tower Gardens', 'display_time': '11:00 AM to 1:00 PM EDT', 'datetime': '2025-06-22T11:00:00-04:00'}\n",
      "\n",
      "{'event_url': 'https://www.meetup.com/srq-ladies-brunch/events/307751703/', 'event_name': 'John Us for Brunch at Tara Country Club ✔️', 'group_name': 'SRQ Ladies Brunch & More', 'group_url': 'https://www.meetup.com/srq-ladies-brunch/?eventOrigin=event_home_page', 'location': 'Tara Golf & Country Club', 'display_time': '11:30 AM to 1:30 PM EDT', 'datetime': '2025-06-22T11:30:00-04:00'}\n",
      "\n",
      "{'event_url': 'https://www.meetup.com/scips-a-50-tampa-bay-singles-club/events/307425987/', 'event_name': 'COMEDY at the WEST COAST PLAYERS TICKETS only $18. Call 727-296-8697', 'group_name': 'SCIPS, a 50+ Tampa Bay Singles Club', 'group_url': 'https://www.meetup.com/scips-a-50-tampa-bay-singles-club/?eventOrigin=event_home_page', 'location': 'West Coast Players', 'display_time': '2:00 PM to 4:00 PM EDT', 'datetime': '2025-06-22T14:00:00-04:00'}\n",
      "\n",
      "{'event_url': 'https://www.meetup.com/live-love-and-enjoy/events/308394998/', 'event_name': 'Live, Love & Enjoy Early Sunday Dinner', 'group_name': 'Live, Love & Enjoy!', 'group_url': 'https://www.meetup.com/live-love-and-enjoy/?eventOrigin=event_home_page', 'location': 'Amici Italian Eatery', 'display_time': '4:00 PM to 6:00 PM EDT', 'datetime': '2025-06-22T16:00:00-04:00'}\n",
      "\n",
      "{'event_url': 'https://www.meetup.com/couples-dinner-club/events/308212286/', 'event_name': \"Early dining at Miguel's Restaurant\", 'group_name': 'Sarasota Couples Dinner Club', 'group_url': 'https://www.meetup.com/couples-dinner-club/?eventOrigin=event_home_page', 'location': \"Miguel's Restaurant\", 'display_time': '5:45 PM to 7:45 PM EDT', 'datetime': '2025-06-22T17:45:00-04:00'}\n",
      "\n",
      "{'event_url': 'https://www.meetup.com/whoaa-pinellas/events/308281996/', 'event_name': \"Sunday morning breakfast. Lets try this popular Breakfast restaurant. KeKe's!!\", 'group_name': \"We're Heading Out & About\", 'group_url': 'https://www.meetup.com/whoaa-pinellas/?eventOrigin=event_home_page', 'location': \"Keke's\", 'display_time': '10:00 AM to 12:00 PM EDT', 'datetime': '2025-06-22T10:00:00-04:00'}\n",
      "\n",
      "{'event_url': 'https://www.meetup.com/tampa-travel-active-seniors-50s-plus/events/307899260/', 'event_name': \"Let's go bowling at Pin chasers\", 'group_name': 'Tampa bay adventures 50s plus', 'group_url': 'https://www.meetup.com/tampa-travel-active-seniors-50s-plus/?eventOrigin=event_home_page', 'location': 'Pin Chasers Veterans', 'display_time': '4:00 PM to 7:00 PM EDT', 'datetime': '2025-06-22T16:00:00-04:00'}\n",
      "\n",
      "{'event_url': 'https://www.meetup.com/discoversarasota/events/308391472/', 'event_name': 'Round Trip Bike Casey Key to The Venice Jetties', 'group_name': 'Discover Greater Sarasota (DGS)', 'group_url': 'https://www.meetup.com/discoversarasota/?eventOrigin=event_home_page', 'location': 'Blackburn Point Park', 'display_time': '9:00 AM to 11:00 AM EDT', 'datetime': '2025-06-22T09:00:00-04:00'}\n",
      "\n",
      "{'event_url': 'https://www.meetup.com/spring-hill-meetup-group/events/308377562/', 'event_name': 'Line Dance Lessons @ Elks Lodge #2582', 'group_name': 'Spring Hill Meetup Group', 'group_url': 'https://www.meetup.com/spring-hill-meetup-group/?eventOrigin=event_home_page', 'location': 'Brooksville Elks Lodge #2582', 'display_time': '3:00 PM to 6:00 PM EDT', 'datetime': '2025-06-22T15:00:00-04:00'}\n",
      "\n",
      "{'event_url': 'https://www.meetup.com/nerd-night-out/events/308240691/', 'event_name': 'A Duck Presents NB Movie Night', 'group_name': 'Nerd Night Out', 'group_url': 'https://www.meetup.com/nerd-night-out/?eventOrigin=event_home_page', 'location': 'Discord.io/Nerdbrew', 'display_time': '7:00 PM to 11:30 PM EDT', 'datetime': '2025-06-22T19:00:00-04:00'}\n",
      "\n",
      "{'event_url': 'https://www.meetup.com/tampa-get-together/events/308230483/', 'event_name': 'Tampa - Sunday Free Online Guided Meditation- Learn, practice, relax and grow', 'group_name': 'Get-Together in Tampa :)', 'group_url': 'https://www.meetup.com/tampa-get-together/?eventOrigin=event_home_page', 'location': 'Online', 'display_time': '9:45 AM to 11:00 AM EDT', 'datetime': '2025-06-22T09:45:00-04:00'}\n",
      "\n",
      "Reading Writing category page...\n",
      "Failed to find main element.\n",
      "Generated initial events\n"
     ]
    },
    {
     "data": {
      "application/vnd.jupyter.widget-view+json": {
       "model_id": "232ebfe25c16464e96abf92fab6bed00",
       "version_major": 2,
       "version_minor": 0
      },
      "text/plain": [
       "HBox(children=(Checkbox(value=True, description='Gen Geek: 28 Years Later @\\n10:00 AM to 12:00 PM EDT\\n', layo…"
      ]
     },
     "metadata": {},
     "output_type": "display_data"
    },
    {
     "data": {
      "application/vnd.jupyter.widget-view+json": {
       "model_id": "682d6b3be1824d8db4c21ec3e98d3830",
       "version_major": 2,
       "version_minor": 0
      },
      "text/plain": [
       "HBox(children=(Checkbox(value=True, description=\"We're Heading Out & About: Sunday morning breakfast. Lets try…"
      ]
     },
     "metadata": {},
     "output_type": "display_data"
    },
    {
     "data": {
      "application/vnd.jupyter.widget-view+json": {
       "model_id": "a3854e68104248d7b2e7a32aba6dcfda",
       "version_major": 2,
       "version_minor": 0
      },
      "text/plain": [
       "HBox(children=(Checkbox(value=True, description=\"Winter Haven 40's and Up Social Group.: Sunday Brunch at Bok …"
      ]
     },
     "metadata": {},
     "output_type": "display_data"
    },
    {
     "data": {
      "application/vnd.jupyter.widget-view+json": {
       "model_id": "1bddb3fd6cac470d89edac007f7cc678",
       "version_major": 2,
       "version_minor": 0
      },
      "text/plain": [
       "HBox(children=(Checkbox(value=True, description='Board Games and Card Games in Sarasota & Bradenton: Venice St…"
      ]
     },
     "metadata": {},
     "output_type": "display_data"
    },
    {
     "data": {
      "application/vnd.jupyter.widget-view+json": {
       "model_id": "569b5327e3044b58a96805ce93a32856",
       "version_major": 2,
       "version_minor": 0
      },
      "text/plain": [
       "HBox(children=(Checkbox(value=True, description='SRQ Mahjong Gathering: JUNE DOT, CRAK, BAM GATHERING\\n12:30 P…"
      ]
     },
     "metadata": {},
     "output_type": "display_data"
    },
    {
     "data": {
      "application/vnd.jupyter.widget-view+json": {
       "model_id": "e2318696ac234842bdaedaa6c4d44f01",
       "version_major": 2,
       "version_minor": 0
      },
      "text/plain": [
       "HBox(children=(Checkbox(value=True, description='Tampa Hackerspace: Woodshop Safety (Members Only)\\n1:00 PM to…"
      ]
     },
     "metadata": {},
     "output_type": "display_data"
    },
    {
     "data": {
      "application/vnd.jupyter.widget-view+json": {
       "model_id": "418853c7ec3d4944a94a58cec680ee3e",
       "version_major": 2,
       "version_minor": 0
      },
      "text/plain": [
       "HBox(children=(Checkbox(value=True, description='Critical Hit Games: BattleTech: Clan Jade Falcon Campaign (Tu…"
      ]
     },
     "metadata": {},
     "output_type": "display_data"
    },
    {
     "data": {
      "application/vnd.jupyter.widget-view+json": {
       "model_id": "4cb995dd74af4d0fa9b5825783f28a73",
       "version_major": 2,
       "version_minor": 0
      },
      "text/plain": [
       "HBox(children=(Checkbox(value=True, description='Makerspaces Pinellas Meetup Group: Intro to Sewing\\n2:00 PM t…"
      ]
     },
     "metadata": {},
     "output_type": "display_data"
    },
    {
     "data": {
      "application/vnd.jupyter.widget-view+json": {
       "model_id": "c1f4dcea8e4f4081a4b33093b761fd74",
       "version_major": 2,
       "version_minor": 0
      },
      "text/plain": [
       "HBox(children=(Checkbox(value=True, description='Dunedin-Palm Harbor Video Game Book Club: Dunedin-Palm Harbor…"
      ]
     },
     "metadata": {},
     "output_type": "display_data"
    },
    {
     "data": {
      "application/vnd.jupyter.widget-view+json": {
       "model_id": "e66ee92d13464cb59eecd1f7313325af",
       "version_major": 2,
       "version_minor": 0
      },
      "text/plain": [
       "HBox(children=(Checkbox(value=True, description='Chess Republic: Sunday Chess at Wholefoods in Midtown, Tampa\\…"
      ]
     },
     "metadata": {},
     "output_type": "display_data"
    },
    {
     "data": {
      "application/vnd.jupyter.widget-view+json": {
       "model_id": "b3339edd4a3c4a1786173bba17a8236a",
       "version_major": 2,
       "version_minor": 0
      },
      "text/plain": [
       "HBox(children=(Checkbox(value=True, description='Critical Hit Games: D&D Adventurers League\\n2:00 PM to 7:30 P…"
      ]
     },
     "metadata": {},
     "output_type": "display_data"
    },
    {
     "data": {
      "application/vnd.jupyter.widget-view+json": {
       "model_id": "e535203dfb2f480587c3894e7b9470e1",
       "version_major": 2,
       "version_minor": 0
      },
      "text/plain": [
       "HBox(children=(Checkbox(value=True, description='Unlock Lottery Data Patterns in Pick 3 | Pick 4 | Pick 5: Mas…"
      ]
     },
     "metadata": {},
     "output_type": "display_data"
    },
    {
     "data": {
      "application/vnd.jupyter.widget-view+json": {
       "model_id": "d7a27f9856f049e79f1ad64bb34caff7",
       "version_major": 2,
       "version_minor": 0
      },
      "text/plain": [
       "HBox(children=(Checkbox(value=True, description='Sunshine Games: Sunday Pokemon League\\n4:00 PM to 8:00 PM EDT…"
      ]
     },
     "metadata": {},
     "output_type": "display_data"
    },
    {
     "data": {
      "application/vnd.jupyter.widget-view+json": {
       "model_id": "560ba8f8d9194325a7c73d0885bc45f2",
       "version_major": 2,
       "version_minor": 0
      },
      "text/plain": [
       "HBox(children=(Checkbox(value=True, description='Live, Love & Enjoy!: Live, Love & Enjoy Early Sunday Dinner\\n…"
      ]
     },
     "metadata": {},
     "output_type": "display_data"
    },
    {
     "data": {
      "application/vnd.jupyter.widget-view+json": {
       "model_id": "6eff5d21298a4cc08178aa8ebad3c458",
       "version_major": 2,
       "version_minor": 0
      },
      "text/plain": [
       "HBox(children=(Checkbox(value=True, description=\"Tampa bay adventures 50s plus: Let's go bowling at Pin chaser…"
      ]
     },
     "metadata": {},
     "output_type": "display_data"
    },
    {
     "data": {
      "application/vnd.jupyter.widget-view+json": {
       "model_id": "845e1852e1884f808b21793b0ccc29fc",
       "version_major": 2,
       "version_minor": 0
      },
      "text/plain": [
       "HBox(children=(Checkbox(value=True, description='Brandon and Seffner area AD&D and OSR Group: Lankhmar: City o…"
      ]
     },
     "metadata": {},
     "output_type": "display_data"
    },
    {
     "data": {
      "application/vnd.jupyter.widget-view+json": {
       "model_id": "c654adbb7ec2402484e1edaf6c8727cb",
       "version_major": 2,
       "version_minor": 0
      },
      "text/plain": [
       "HBox(children=(Checkbox(value=True, description='Tampa Hackerspace: Sew Awesome! (Textile Arts & Crafts)\\n5:30…"
      ]
     },
     "metadata": {},
     "output_type": "display_data"
    },
    {
     "data": {
      "application/vnd.jupyter.widget-view+json": {
       "model_id": "ff9cd12e5d0d49c088c4afe9139be0d6",
       "version_major": 2,
       "version_minor": 0
      },
      "text/plain": [
       "HBox(children=(Checkbox(value=True, description=\"Tampa Hackerspace: Let's Learn to Turn Pens!\\n6:00 PM to 9:00…"
      ]
     },
     "metadata": {},
     "output_type": "display_data"
    },
    {
     "data": {
      "application/vnd.jupyter.widget-view+json": {
       "model_id": "025916d12bae469cb53794df8bad5882",
       "version_major": 2,
       "version_minor": 0
      },
      "text/plain": [
       "HBox(children=(Checkbox(value=True, description='Toastmasters Division E: Find Your Funny Toastmasters\\n6:30 P…"
      ]
     },
     "metadata": {},
     "output_type": "display_data"
    },
    {
     "data": {
      "application/vnd.jupyter.widget-view+json": {
       "model_id": "191845b132cb4e8396debe0247ee299c",
       "version_major": 2,
       "version_minor": 0
      },
      "text/plain": [
       "HBox(children=(Checkbox(value=True, description='Learn-To-Trade Crypto (Free Livestream): Learn-To-Trade Futur…"
      ]
     },
     "metadata": {},
     "output_type": "display_data"
    },
    {
     "data": {
      "application/vnd.jupyter.widget-view+json": {
       "model_id": "6f48f22661aa4d51ace99f75ef640f43",
       "version_major": 2,
       "version_minor": 0
      },
      "text/plain": [
       "HBox(children=(Checkbox(value=True, description='Make Money Online: Make Money Online\\n7:00 PM to 8:00 PM EDT\\…"
      ]
     },
     "metadata": {},
     "output_type": "display_data"
    },
    {
     "data": {
      "application/vnd.jupyter.widget-view+json": {
       "model_id": "6f8b3b9eef5b4fc9a27f19ca2c46a2af",
       "version_major": 2,
       "version_minor": 0
      },
      "text/plain": [
       "HBox(children=(Checkbox(value=True, description='Nerd Night Out: A Duck Presents NB Movie Night\\n7:00 PM to 11…"
      ]
     },
     "metadata": {},
     "output_type": "display_data"
    }
   ],
   "source": [
    "generate_checklist(2025, 6, 22)"
   ]
  },
  {
   "cell_type": "markdown",
   "id": "ead056d9",
   "metadata": {},
   "source": [
    "### The table generator: _Run after checking the checklist!_"
   ]
  },
  {
   "cell_type": "code",
   "execution_count": 47,
   "id": "f58c5e45",
   "metadata": {},
   "outputs": [
    {
     "data": {
      "text/plain": [
       "'<table><tr><th>Event name and location</th><th>Group</th><th width=\"20%\">Time</th></tr><tr><td><strong><a href=\"https://www.meetup.com/gengeek/events/308230931/\">28 Years Later @</a></strong><br /><small>AMC Veterans 24</small></p></td><td><a href=\"https://www.meetup.com/gengeek/?eventOrigin=event_home_page\">Gen Geek</a></td><td><small>10:00 AM to 12:00 PM EDT</small></td></tr><tr><td><strong><a href=\"https://www.meetup.com/srqgames/events/308232975/\">Venice Strategy Board Gamers</a></strong><br /><small>Venice</small></p></td><td><a href=\"https://www.meetup.com/srqgames/?eventOrigin=event_home_page\">Board Games and Card Games in Sarasota & Bradenton</a></td><td><small>12:00 PM to 6:00 PM EDT</small></td></tr><tr><td><strong><a href=\"https://www.meetup.com/srq-newbie-mahjong-gathering/events/307773813/\">JUNE DOT, CRAK, BAM GATHERING</a></strong><br /><small>The GoodEarth</small></p></td><td><a href=\"https://www.meetup.com/srq-newbie-mahjong-gathering/?eventOrigin=event_home_page\">SRQ Mahjong Gathering</a></td><td><small>12:30 PM to 2:30 PM EDT</small></td></tr><tr><td><strong><a href=\"https://www.meetup.com/tampa-hackerspace/events/307841382/\">Woodshop Safety (Members Only)</a></strong><br /><small>Tampa Hackerspace West</small></p></td><td><a href=\"https://www.meetup.com/tampa-hackerspace/?eventOrigin=event_home_page\">Tampa Hackerspace</a></td><td><small>1:00 PM to 4:00 PM EDT</small></td></tr><tr><td><strong><a href=\"https://www.meetup.com/critical-hit-games/events/308205130/\">BattleTech: Clan Jade Falcon Campaign (Tukayyid) - Mission 1: The Deadly River</a></strong><br /><small>Critical Hit Games</small></p></td><td><a href=\"https://www.meetup.com/critical-hit-games/?eventOrigin=event_home_page\">Critical Hit Games</a></td><td><small>1:00 PM to 4:00 PM EDT</small></td></tr><tr><td><strong><a href=\"https://www.meetup.com/makerspaces-pinellas-meetup-group/events/308131954/\">Intro to Sewing</a></strong><br /><small>MakerSpace St. Petersburg</small></p></td><td><a href=\"https://www.meetup.com/makerspaces-pinellas-meetup-group/?eventOrigin=event_home_page\">Makerspaces Pinellas Meetup Group</a></td><td><small>2:00 PM to 4:00 PM EDT</small></td></tr><tr><td><strong><a href=\"https://www.meetup.com/video-game-book-club-meet-up/events/308097461/\">Dunedin-Palm Harbor Video Game Book Club - June Meetup: Ori and the Blind Forest</a></strong><br /><small>HOB Brewing</small></p></td><td><a href=\"https://www.meetup.com/video-game-book-club-meet-up/?eventOrigin=event_home_page\">Dunedin-Palm Harbor Video Game Book Club</a></td><td><small>2:00 PM to 4:00 PM EDT</small></td></tr><tr><td><strong><a href=\"https://www.meetup.com/chessrepublic/events/308235213/\">Sunday Chess at Wholefoods in Midtown, Tampa</a></strong><br /><small>Whole Foods Market</small></p></td><td><a href=\"https://www.meetup.com/chessrepublic/?eventOrigin=event_home_page\">Chess Republic</a></td><td><small>2:00 PM to 5:00 PM EDT</small></td></tr><tr><td><strong><a href=\"https://www.meetup.com/critical-hit-games/events/308235006/\">D&D Adventurers League</a></strong><br /><small>Critical Hit Games</small></p></td><td><a href=\"https://www.meetup.com/critical-hit-games/?eventOrigin=event_home_page\">Critical Hit Games</a></td><td><small>2:00 PM to 7:30 PM EDT</small></td></tr><tr><td><strong><a href=\"https://www.meetup.com/sunshine-games/events/308238345/\">Sunday Pokemon League</a></strong><br /><small>Sunshine Games | Magic the Gathering, Pokémon, Yu-Gi-Oh!</small></p></td><td><a href=\"https://www.meetup.com/sunshine-games/?eventOrigin=event_home_page\">Sunshine Games</a></td><td><small>4:00 PM to 8:00 PM EDT</small></td></tr><tr><td><strong><a href=\"https://www.meetup.com/seffner-d-d-meetup/events/308238338/\">Lankhmar: City of Adventure</a></strong><br /><small>Nerdy Needs</small></p></td><td><a href=\"https://www.meetup.com/seffner-d-d-meetup/?eventOrigin=event_home_page\">Brandon and Seffner area AD&D and OSR Group</a></td><td><small>5:00 PM to 9:00 PM EDT</small></td></tr><tr><td><strong><a href=\"https://www.meetup.com/tampa-hackerspace/events/308244231/\">Sew Awesome! (Textile Arts & Crafts)</a></strong><br /><small>Tampa Hackerspace West</small></p></td><td><a href=\"https://www.meetup.com/tampa-hackerspace/?eventOrigin=event_home_page\">Tampa Hackerspace</a></td><td><small>5:30 PM to 8:30 PM EDT</small></td></tr><tr><td><strong><a href=\"https://www.meetup.com/tampa-hackerspace/events/307792541/\">Let\\'s Learn to Turn Pens!</a></strong><br /><small>Tampa Hackerspace West</small></p></td><td><a href=\"https://www.meetup.com/tampa-hackerspace/?eventOrigin=event_home_page\">Tampa Hackerspace</a></td><td><small>6:00 PM to 9:00 PM EDT</small></td></tr><tr><td><strong><a href=\"https://www.meetup.com/toastmastersdivisione/events/308027295/\">Find Your Funny Toastmasters</a></strong><br /><small>Online</small></p></td><td><a href=\"https://www.meetup.com/toastmastersdivisione/?eventOrigin=event_home_page\">Toastmasters Division E</a></td><td><small>6:30 PM to 8:00 PM EDT</small></td></tr><tr><td><strong><a href=\"https://www.meetup.com/make-money-online/events/308244412/\">Make Money Online</a></strong><br /><small>Online</small></p></td><td><a href=\"https://www.meetup.com/make-money-online/?eventOrigin=event_home_page\">Make Money Online</a></td><td><small>7:00 PM to 8:00 PM EDT</small></td></tr><tr><td><strong><a href=\"https://www.meetup.com/nerd-night-out/events/308240691/\">A Duck Presents NB Movie Night</a></strong><br /><small>Discord.io/Nerdbrew</small></p></td><td><a href=\"https://www.meetup.com/nerd-night-out/?eventOrigin=event_home_page\">Nerd Night Out</a></td><td><small>7:00 PM to 11:30 PM EDT</small></td></tr><tr><td colspan=\"3\"><a href=\"#top\">Return to the top of the list</a></td></tr></table>'"
      ]
     },
     "execution_count": 49,
     "metadata": {},
     "output_type": "execute_result"
    }
   ],
   "source": [
    "def get_checked_items(checklist):\n",
    "    checked_items = []\n",
    "    \n",
    "    for checkbox in checklist:\n",
    "        if checkbox.value:\n",
    "            checked_items.append(checklist[checkbox])\n",
    "            \n",
    "    return checked_items\n",
    "\n",
    "def checked_items_to_html_table(checked_items):\n",
    "    event_html_table = \"\"\"<table><tr><th>Event name and location</th><th>Group</th><th width=\"20%\">Time</th></tr>\"\"\"\n",
    "    \n",
    "    for event in checked_items:\n",
    "        event_html_table += f\"\"\"<tr><td><strong><a href=\\\"{event['event_url']}\\\">{event['event_name']}</a></strong><br /><small>{event['location']}</small></p></td><td><a href=\\\"{event['group_url']}\\\">{event['group_name']}</a></td><td><small>{event['display_time']}</small></td></tr>\"\"\"\n",
    "    \n",
    "    event_html_table += \"\"\"<tr><td colspan=\"3\"><a href=\"#top\">Return to the top of the list</a></td></tr></table>\"\"\"\n",
    "    \n",
    "    pyperclip.copy(event_html_table)\n",
    "    return event_html_table\n",
    "\n",
    "def checked_items_to_unordered_list(checked_items):\n",
    "    event_unordered_list = \"<ul>\"\n",
    "    \n",
    "    for event in checked_items:\n",
    "        event_unordered_list += f\"<li>{event['display_time']}: <strong><a href=\\\"{event['event_url']}\\\">{event['event_name']}</a></strong> ({event['location']}) - <a href=\\\"{event['group_url']}\\\">{event['group_name']}</a></li>\\n\"\n",
    "\n",
    "    event_unordered_list += \"</ul>\"\n",
    "    pyperclip.copy(event_unordered_list)\n",
    "    return event_unordered_list\n",
    "    \n",
    "table = checked_items_to_html_table(get_checked_items(checklist))\n",
    "table"
   ]
  },
  {
   "cell_type": "code",
   "execution_count": null,
   "id": "2ae9d62c",
   "metadata": {},
   "outputs": [],
   "source": []
  }
 ],
 "metadata": {
  "kernelspec": {
   "display_name": "Python 3",
   "language": "python",
   "name": "python3"
  },
  "language_info": {
   "codemirror_mode": {
    "name": "ipython",
    "version": 3
   },
   "file_extension": ".py",
   "mimetype": "text/x-python",
   "name": "python",
   "nbconvert_exporter": "python",
   "pygments_lexer": "ipython3",
   "version": "3.12.4"
  }
 },
 "nbformat": 4,
 "nbformat_minor": 5
}
