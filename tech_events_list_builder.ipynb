{
 "cells": [
  {
   "cell_type": "markdown",
   "id": "ac6b6673",
   "metadata": {},
   "source": [
    "# Tampa Bay Tech Events List generator"
   ]
  },
  {
   "cell_type": "markdown",
   "id": "705bb670",
   "metadata": {},
   "source": [
    "## Imports"
   ]
  },
  {
   "cell_type": "code",
   "execution_count": 2,
   "id": "009dae03-1dbb-4019-9a60-b52dea0ab9a1",
   "metadata": {},
   "outputs": [],
   "source": [
    "import os\n",
    "from datetime import datetime\n",
    "from time import mktime, sleep\n",
    "from urllib.parse import urlparse, urlunparse\n",
    "\n",
    "import ipywidgets as widgets\n",
    "import pyperclip\n",
    "from dotenv import load_dotenv\n",
    "from IPython.display import Audio, display\n",
    "from selenium import webdriver\n",
    "from selenium.webdriver.chrome.service import Service as ChromeService\n",
    "from selenium.webdriver.common.by import By\n",
    "from selenium.webdriver.support import expected_conditions as EC\n",
    "from selenium.webdriver.support.ui import WebDriverWait\n",
    "from webdriver_manager.chrome import ChromeDriverManager"
   ]
  },
  {
   "cell_type": "markdown",
   "id": "44310173-4e46-447e-856b-b8c23b4a7930",
   "metadata": {},
   "source": [
    "## Open a Selenium-controlled browser window"
   ]
  },
  {
   "cell_type": "code",
   "execution_count": 3,
   "id": "4077c494",
   "metadata": {},
   "outputs": [],
   "source": [
    "driver = webdriver.Chrome(service=ChromeService(ChromeDriverManager().install()))\n",
    "driver.get('https://www.facebook.com/v11.0/dialog/oauth?client_id=2403839689&redirect_uri=https%3A%2F%2Fwww.meetup.com%2Fties2%2F&scope=email%20user_friends&response_type=token&state=returnUri%3Dhttps%253A%252F%252Fwww.meetup.com%252Fhome%26facebook%3Dtrue')\n",
    "\n",
    "load_dotenv()\n",
    "USERNAME = os.getenv(\"USERNAME\")\n",
    "PASSWORD = os.getenv(\"PASSWORD\")\n",
    "\n",
    "username_field = driver.find_element(By.ID, \"email\")\n",
    "username_field.send_keys(USERNAME)\n",
    "sleep(2)\n",
    "password_field = driver.find_element(By.ID, \"pass\")\n",
    "password_field.send_keys(PASSWORD)\n",
    "sleep(2)\n",
    "login_button = driver.find_element(By.ID, \"loginbutton\")\n",
    "login_button.click()\n",
    "sleep(8)\n",
    "continue_button = driver.find_element(By.CLASS_NAME, \"x9f619\")\n",
    "continue_button.click()"
   ]
  },
  {
   "cell_type": "markdown",
   "id": "95cef50b-b331-488c-ab13-aa4207fdf39e",
   "metadata": {},
   "source": [
    "## Retrieve the list of group and meetup names to ignore"
   ]
  },
  {
   "cell_type": "code",
   "execution_count": 4,
   "id": "46a2caa7-a215-473b-bfaa-c79757b6f647",
   "metadata": {},
   "outputs": [
    {
     "name": "stdout",
     "output_type": "stream",
     "text": [
      "['1 on 1 talk japanese and english language exchange', '20’s & 30’s tampa outdoor adventures', '20s & 30s christians tampa bay', '20s-40s socializing', '305 edm', '30s-40s socializing', '35+ on the town', '40 + married couples hanging out', '50 somethings at disney', 'a cappella bay show chorus', 'aarons of tampa bay', 'adventurous friends', 'africans in orlando', 'ageless and unstoppable ladies', 'airbnb hosts of tampa meetup group', 'alchemist nation live events', 'all things italian for everyone social', 'almost there but not quite', 'american herbalists guild', 'american singles golf assc', 'amore events 4u', 'animal rights florida meetup', 'arts and crafts therapy', 'astrology', 'athena athletes tarpon clearwater', 'bay area newbies', 'be sassy', 'beautiful brown girls brunch club', 'beer buzz', 'best day fitness', 'bitcoin key club', 'black everywhere®', 'blockchain nft ia network marketing', 'blue hawk exchange meetup group', 'bokhari medicals wellness', 'bold travel women of orlando', 'boomers happy hour for singles', 'brandon baháí faith', 'building wealth through life insurance', 'camp easy ride', 'can you truly understand love sex and marriage?', 'cannabees', 'cannabis entrepreneurs & investors', 'caribbean connect meetup group', 'causeway biking bandits', 'ccwc community events', 'central florida anomalies explorers', 'central florida latin dance', 'central florida recon', 'central florida social club', 'child-free women 30s 40s 50s+ dining & fun!', 'christian believers in hernando pasco and citrus', 'city connect club st. petersburg', 'clear water zen center', 'clermont social circle for the over 40 crowd', 'club cherried', 'club esquire', 'couples without kids tampa bay', 'critical mass tampabay', 'cruisin tampa bay men for men m4m', 'darkstar paranormal research meetup group', 'date a handyman', 'dating night', 'davenport social group', 'daytona beach green turtle kava social', 'debary wine tasting meetup group', 'dianetics', 'dinner time singles tampa bay', 'discover greater sarasota', 'divorce or breakup meetup group', 'dunedin causeway meetup', 'dunedin causeway meetup public group', 'dunedin girls hanging out', 'dunedin running for brews!', 'earthwalkers', 'eastside ladies (55+) meet & eat', 'eccentricity club (foodies and fun)', 'elevated dining!', 'elevating connections', 'elite investor re meetup', 'emotional awakenings around sobriety and sensitivity', 'emotional healing techniques for stress free and happy life', \"emotional intelligence \\\\'navigating your thoughts & feelings\\\\'\", 'english for everyone', 'environmental conservancy of north port & surrounding areas', 'eustis wealth health and leadership meetup group', 'everything metaphysical', 'evolve social community', 'exchange club of south sarasota county', 'expand your circle mount dora and surrounding', 'fashion/clothing lovers: florida fabric collective', 'favorable creative retreats', 'fifties and sixties singles', 'financial freedom and wealth creation', 'financial strategy turning debt to wealth personal/business', \"finding fun female friends over 40 (women\\\\'s 40+ group)\", 'finding wow gals', 'fine dining & cocktails', 'first time home buyers info session', 'florida adventures and explorers meetup group', 'florida experiences', 'florida scrub-jay trail', 'florida speed dating events', 'florida spirit mind and body group', 'florida street skaters', 'florida voices for animals', 'flowering heart meditation tampa bay', 'foodies rock tampa', 'forever young social group', 'forex', 'fort myers life ladies group', 'free health insurance seminars and networking', 'free spanish classes', 'friends of moccasin lake', 'friends of unity of palm harbor', 'friendship force sarasota', 'from a social novice to a social expert', 'fun & fabulous female friends', 'fun 40s to 60s riverview area', 'fun party people of dunedin and beyond', 'fun time meetup group', 'fun with friends in tampa bay', 'fun with friends in tampa bay public group', 'gay mens chorus of tampa bay', 'gen xers dining out in srq', 'get the edge in your business', 'get-together in tampa', 'gfwc north pinellas womans club', 'girls just want to have fun', 'golden eagles motorcycle club', 'greater riverview landlord association', 'green in st pete', 'group meditation & spiritual insights', 'gulf coast gains', 'happy hookers orlando crochet group', 'have medicaid?', 'healthy happy hour (h3)', 'how money works meetup', 'how to overcome barriers to a happy life', 'i refuse 2 fail', 'iconic tampa eateries', 'ignite the fire within you', 'indian rocks beach couples social club', 'inner engineering tampa', 'international happy hour brunch & dancing hosted by evelin', 'invictus paddling club', 'irish 3.1 run club westchase', 'irish 31 running club', 'is it possible to increase confidence and happiness in life?', 'italian culture dining language etc. of tampa bay', 'jetsetters & fine things in life', 'jordan b. peterson', 'just say no to stress and anxiety', 'kava culture clearwater', 'kava culture tribe', 'kava culture winter springs', 'kayak explorers and more', 'la flora community', 'ladies connect irl!', 'ladies of lager', 'lake nona veteran community', 'lakeland 20s and 30s social', 'lakeland note investing group', 'learn how to put emotional trauma behind you', 'lets do all the stuff', 'lets get social', 'lgbtq+ socials with metro inclusive health', 'life begins at 60+ singles', 'life by design: elevating ambition income & fulfillment', 'life in the 727', 'lifebydesign events', 'live in love and light', 'live love & enjoy!', 'living with spirits', 'living your best life sarasota', 'lunch ladies', 'lwrgno lakewood ranch girls night out', 'make contacts meet people and communicate', 'make friends w/ someone in this meetup', 'make new friends group', 'marion county rocks and minerals meetup group', 'meditation and buddhism in tampa bay', 'meet new friends your age the villages & wildwood', 'meet new friends your age the villages & wildwood public group', 'miami fitness & wellness events', 'millionaire mind', 'moccasin lake nature park', 'monster trading systems', 'mortgage', 'multifamily investors network of tampa (mint)', 'multifamilymasters', 'music and entertainment management', 'nature coast neighbors', 'new in town clearwater', 'north central florida preparedness', 'north st pete member driven fun social group', 'ny nj dmv kids with social concerns', 'ocala national forest alliance', 'ocala national forest alliance', 'old boys club of tampa & st pete (mens social)', 'online psychic development', 'option trading strategies', 'organic and sustainable living meetup', 'orlando | pearº events', 'orlando bars & social', 'orlando fiber arts meetup', 'orlando improv community', 'orlando peacemaking and community building group', 'orlando personal injury', 'orlando scuba diving', 'orlando thrift & craft club', 'orlando volunteers!', 'orlando women connect', 'our black orlando', 'outdoor fun-tampa bay lets bike', 'overcome barriers to self-assurance happiness and drive', 'pasco baháís for world peace and spirituality', 'people learning to increase happiness and confidence', 'phillippi crest clubhouse', 'pickleball', 'pinellas autism project', 'pinellas coffee friends', 'pinellas county & tampa bay eckankar group', 'pints & properties', 'plant based pioneers', 'plant city friends', 'policy discussion and the peoples law school', 'powergals', 'punta gorda walkers', 'quality professionals of tampa bay', 'random fun stuff i want to do on a short notice club', 'randos: the meetup', 'readings activations meditations', 'real estate', 'real freedom colab', 'realtor', 'reia', 'remove the barriers to motivation & self-confidence', 'remove the barriers to motivation and self-confidence', 'rising consciousness', 'rising tides meetup', 'riverview ladies lunch bunch', \"riverview/brandon 50\\\\'s+ dinner music and more\", 'romeo - reliable older men enjoying outings', 'roots to crown', 'rosicrucians in the tampa bay', 'rosies about towners', 'rotary club', 'rū tampa', 'saca golden dragons - tampa dragon boat meetup', 'sacred lands preservation & education center', 'sahaja yoga meditation', 'saint cloud social group', 'saint petersburg comedy fans', 'saint petersburg fun friends', 'saint petersburg fun friends group 50+', 'saint petersburg fun friends group 50+', 'saint petersburg fun friends group 55+', 'saint petersburg vegetarian meetup', 'sarasota alternative investment club', 'sarasota christian singles', 'sarasota couples club 45+', 'sarasota couples dinner club', 'sarasota foodies and more', 'sarasota van life meetup group', 'sarasota walkers meetup', 'sarasota wine and fun!', 'sassy', 'sassy • safety harbor fl', 'sassy sisters', 'say goodbye of low self esteem', 'scientific spirituality', 'scips', 'seminole audubon society', 'seminole county volunteers', 'seminole heights dog pack walk saturdays at henry & ola park', 'she can adventure central florida group', 'shut up & write!® orlando', 'sierra club', 'simply laidback adventurers campers and kayakers', 'single adult 31+ volleyball', 'single friends 40 & beyond', 'singles events & speed dating in tampa bay', 'singles meetup group', 'sinks & dinks of manasota', 'soberish', \"social and active 20\\\\'s - 30\\\\'s\", 'social revival event', 'social supper club', 'social survival', 'socially active singles', 'south shore leads club', 'south tampa bay loving life', 'southshore squad', 'southwest florida motorcycle riding meetup group', 'spiritual men and women’s circle of dunedin', 'spring hill meetup group', 'sr54 singles mingle', 'sr54 singles mingle social club', 'srq backyard bbq party', 'srq ladies brunch & more', 'st pete 20s and 30s hang out group', 'st pete active seniors', 'st. pete speaks italian', 'st. pete tailgate group', 'st. pete weird walks', 'st. petersburg business networking pick-up basketball', 'studying the bible together', 'suncoast chapter of the florida native plant society', 'suncoast outdoors', 'suncoast socials 50+', 'sunshine meditation center', 'sw fl 20s 30s 40s singles', 'sw fl plant and seed exchange', 'tai chi gung with kare possick', 'tampa | st pete | clearwater social connections', \"tampa 20\\\\'s and 30\\\\'s social crew\", 'tampa asset protection from a failed fiat system meetup', 'tampa bahais for world peace and spirituality', 'tampa bay 30 something’s social club', 'tampa bay bible study', 'tampa bay buddhist and dharma meetup', 'tampa bay christian singles', 'tampa bay craft beer lovers meetup group', 'tampa bay cycling meetup and facebook group', 'tampa bay fitness', 'tampa bay fitness', 'tampa bay friends', 'tampa bay gulf beaches and surrounding areas home meetup group', 'tampa bay ira investing group', 'tampa bay knights', 'tampa bay landlord association', 'tampa bay latin dancing', 'tampa bay open mic meetup group', 'tampa bay outdoor adventures', 'tampa bay runners', 'tampa bay singles events', 'tampa bay singles mingle', 'tampa bay singles networking and adventure', 'tampa bay social dancing', 'tampa bay sports and socials', 'tampa bay thrivers', 'tampa bay ukulele society', 'tampa boules club meetup group', 'tampa broadway fans and stuff', 'tampa co-ed flag football and other sports', 'tampa coed soccer club & social', 'tampa dining out ladies', 'tampa dining out ladies (30’s & 40’s)', 'tampa easy riders bicycle club', 'tampa energy healing and meditation', 'tampa hockey', 'tampa hooked on crochet group', 'tampa investor/training meetup', 'tampa jewish meetup', 'tampa ladies social events', 'tampa land wholesaling meetup group', 'tampa leadership', 'tampa mental wellbeing meetup group', 'tampa options trading group', 'tampa pickleball meetup', 'tampa qigong and daoist meditation', 'tampa salsa pickleball & explore', 'tampa self-improvement gaining competence in people skills', 'tampa tango argentino', 'tampa tennis', 'tampa thrive & socialize', 'tampa thrive & socialize (under 55)', 'tampa traders price action mastermind', 'tampa volunteers', 'tampa womens transformation collective', 'tampa...40s 50s 60s singles group', 'tampa.bay.raw.vegans', 'tampa/st pete desi meetup', 'taphophiles of central florida', 'temple events and classes', 'temple of the living god of st. petersburg', 'tennistampabay.com', 'terra nova garden center', 'the cemetery society', 'the greater tampa bay dance meetup group', 'the life enrichment center', 'the loan officer academy', 'the pin network', 'the pinellas county meetup group', 'the real sisterhood of tampa bay', 'the school of human connection tampa', 'the sobriety society', 'the spanish language and culture group', 'the spirit university tampa bay', 'the tampa running meetup group', 'the tampa stand up paddlers group', 'the therapists haven', 'the vantage social and creative events', 'theme park couples', 'theosophical society of saint petersburg', 'theproverbs31womanllc', 'thinkful webinar • orlando', 'thinking through the scriptures', 'time of your life! 50+', 'total wellness women', 'treasure coast scrc 587', 'unity of tampa', 'unwind the mind hypnoyogatherapies', 'up-level your love', 'upper tampa bay paddle sports', 'vegan friends', 'vegetarians of central florida', 'vegsarasota vegetarian & vegan meetup group', 'vender comprar e invertir', 'venice fl singles events', 'wake up tampa bay - meditation group', 'warehouse arts district association (wada)', \"we\\\\'re heading out & about\", 'wednesday coffee meetup for christians', 'wesley chapel 50+ social meetup group', 'wesley chapel baby boomers meetup group', 'wesley chapel social meetup', 'west central singles', 'west volusia audubon society', 'what controls your emotions happiness & confidence', \"what\\\\'s happening at the portico\", 'win a job fast', 'wine dine and finds', 'winter garden active & social', 'winter haven kiwanis', 'winter haven women who travel meetup group', 'winter haven40s 50s and 60s social group', 'wom - introduces ambition connect', 'wom - introduces ambition connect', 'women clothed in prayer and faith', 'women of westchase', 'work from home -online business opportunities and networking', 'yes i relocated here too!', 'you were born rich', 'young adults of lake county and the villages ages 21 to 31', 'young at heart', 'your tribe', 'zen city brews events and news']\n"
     ]
    }
   ],
   "source": [
    "with open(\"./ignore_names.txt\") as ignore_names_file:\n",
    "  raw_ignore_names = ignore_names_file.readlines()\n",
    "IGNORE_NAMES = [raw_ignore_name.strip().lower() for raw_ignore_name in raw_ignore_names]\n",
    "print(IGNORE_NAMES)\n",
    "\n",
    "def remove_events_with_ignore_names(events, names_to_ignore):\n",
    "    result_list = []\n",
    "    \n",
    "    for event in events:\n",
    "        is_in_list = True\n",
    "        for name_to_ignore in names_to_ignore:\n",
    "            if name_to_ignore in event['group_name'].lower() or name_to_ignore in event['event_name'].lower():\n",
    "                is_in_list = False\n",
    "                break\n",
    "        if is_in_list:\n",
    "            result_list.append(event)\n",
    "        \n",
    "    return result_list"
   ]
  },
  {
   "cell_type": "markdown",
   "id": "b294af3d",
   "metadata": {},
   "source": [
    "## The checklist generator: _Run me after logging in!_"
   ]
  },
  {
   "cell_type": "code",
   "execution_count": 9,
   "id": "ac9e82b4",
   "metadata": {},
   "outputs": [],
   "source": [
    "def event_urls_from_category_or_keyword_page(category_page_url):\n",
    "    \"\"\"\n",
    "    Given the URL of a Meetup category page, this function returns a list\n",
    "    of the URLs of the event pages listed on that category page.\n",
    "    \"\"\"\n",
    "    \n",
    "    def remove_query_parameters(url):\n",
    "        parsed_url = urlparse(url)\n",
    "        clean_url = urlunparse((parsed_url.scheme, parsed_url.netloc, parsed_url.path, parsed_url.params, '', ''))\n",
    "        return clean_url\n",
    "    \n",
    "    CONTAINER_ELEMENT_CSS_SELECTOR = \"div[class='max-w-narrow']\"\n",
    "    CONTAINER_ELEMENT_CSS_SELECTOR_ALTERNATE = \"div[class='grid grid-cols-1 gap-3 sm:grid-cols-2 sm:gap-6 sm:px-6 sm:pt-0 lg:grid-cols-3 xl:grid-cols-4']\"\n",
    "    EVENT_ELEMENT_CSS_SELECTOR = \"div[class='flex w-full flex-col items-center']\"\n",
    "    \n",
    "    event_urls = []\n",
    "\n",
    "    driver.get(category_page_url)\n",
    "    wait = WebDriverWait(driver, 2)\n",
    "    \n",
    "    # The container element is a <div> containing one or more event items.\n",
    "    try:\n",
    "        container_element = wait.until(EC.presence_of_element_located((By.CSS_SELECTOR, \"div.max-w-narrow > div\")))\n",
    "        print(f\"Found CONTAINER_ELEMENT — tag: {container_element.tag_name}, class: {container_element.get_attribute('class')}\")\n",
    "    except:\n",
    "        try:\n",
    "            container_element = wait.until(EC.presence_of_element_located((By.CSS_SELECTOR, CONTAINER_ELEMENT_CSS_SELECTOR_ALTERNATE)))\n",
    "            print(f\"Found CONTAINER_ELEMENT — tag: {container_element.tag_name}, class: {container_element.get_attribute('class')}\")\n",
    "        except:\n",
    "            print(\"Failed to find main element.\")\n",
    "            return []\n",
    "    \n",
    "    event_elements = container_element.find_elements(By.CSS_SELECTOR, EVENT_ELEMENT_CSS_SELECTOR)\n",
    "    elements_count = len(event_elements)\n",
    "    print(f\"Found {elements_count} elements.\")\n",
    "\n",
    "    for event_element in event_elements:\n",
    "        event_link_element = event_element.find_element(By.TAG_NAME, \"a\")\n",
    "        event_url = event_link_element.get_attribute(\"href\")\n",
    "        event_urls.append(remove_query_parameters(event_url))\n",
    "        \n",
    "    return list(set(event_urls))\n",
    "\n",
    "def event_details_from_event_page(event_url):\n",
    "    \"\"\"\n",
    "    Given the URL of a Meetup event page, this function returns a dictionary\n",
    "    containing the following data from that page:\n",
    "\n",
    "    - url\n",
    "    - event_name\n",
    "    - group_name\n",
    "    - location\n",
    "    - time\n",
    "    - datetime\n",
    "    \"\"\"\n",
    "    event_dict = {\n",
    "        'event_url'    : event_url,\n",
    "        'event_name'   : \"\",\n",
    "        'group_name'   : \"\",\n",
    "        'group_url'    : \"\",\n",
    "        'location'     : \"\",\n",
    "        'display_time' : \"\",\n",
    "        'datetime'     : \"\",\n",
    "    }\n",
    "\n",
    "    driver.get(event_url)\n",
    "    sleep(5)\n",
    "\n",
    "    EVENT_NAME_ELEMENT_CSS_SELECTOR = \"h1[class='overflow-hidden overflow-ellipsis text-3xl font-bold leading-snug']\"\n",
    "    GROUP_NAME_LINK_ELEMENT_CSS_SELECTOR = \"a[id='event-group-mobile-link']\"\n",
    "    GROUP_NAME_ELEMENT_CSS_SELECTOR = \"div[class='w-4/5 text-xl font-semibold false']\"\n",
    "    LOCATION_ELEMENT_CSS_SELECTOR = \"a[class='hover:text-viridian hover:no-underline']\"\n",
    "    DISPLAY_TIME_ELEMENT_CSS_SELECTOR = \"time[class='block']\"\n",
    "\n",
    "    try:\n",
    "        event_name = driver.find_element(By.CSS_SELECTOR, EVENT_NAME_ELEMENT_CSS_SELECTOR).text\n",
    "        event_dict['event_name'] = event_name\n",
    "    except:\n",
    "        print(f\"Couldn’t find event name element for event at {event_url}.\")\n",
    "        print(\"Returning empty dict.\")\n",
    "        return {}\n",
    "\n",
    "    try:\n",
    "        group_name_link_element = driver.find_element(By.CSS_SELECTOR, GROUP_NAME_LINK_ELEMENT_CSS_SELECTOR)\n",
    "        group_name_element = driver.find_element(By.CSS_SELECTOR, GROUP_NAME_ELEMENT_CSS_SELECTOR)\n",
    "    except:\n",
    "        print(f\"Couldn’t find group name link element or group name element for event at {event_url}.\")\n",
    "        print(\"Returning empty dict.\")\n",
    "        return {}\n",
    "    else:\n",
    "        try:\n",
    "            group_name = group_name_element.text.splitlines()[0]\n",
    "        except:\n",
    "            group_name = \" \"\n",
    "        event_dict['group_name'] = group_name\n",
    "        group_url = group_name_link_element.get_attribute('href')\n",
    "        event_dict['group_url'] = group_url\n",
    "        \n",
    "    try:\n",
    "        location_element = driver.find_element(By.CSS_SELECTOR, LOCATION_ELEMENT_CSS_SELECTOR)\n",
    "        location = location_element.text\n",
    "    except:\n",
    "        location = \"Online\"\n",
    "    event_dict['location'] = location\n",
    "    \n",
    "    try:\n",
    "        display_time_element = driver.find_element(By.CSS_SELECTOR, DISPLAY_TIME_ELEMENT_CSS_SELECTOR)\n",
    "    except:\n",
    "        print(f\"Couldn’t find display time element for event at {event_url}.\")\n",
    "        print(\"Returning empty dict.\")\n",
    "        return {}\n",
    "    else:\n",
    "        try:\n",
    "            display_time = display_time_element.text.splitlines()[1]\n",
    "        except:\n",
    "            display_time = display_time_element.text\n",
    "    event_dict['display_time'] = display_time\n",
    "    datetime = display_time_element.get_attribute('datetime')\n",
    "    event_dict['datetime'] = datetime\n",
    "\n",
    "    print(f\"{event_dict}\\n\")\n",
    "    return event_dict\n",
    "\n",
    "def meetup_events(year, month, day):\n",
    "    events = []\n",
    "    \n",
    "    BASE_URL = 'https://www.meetup.com/find'\n",
    "    KEYWORDS = {\n",
    "        'programming':             'programming',\n",
    "        'data%20science':          'data science',\n",
    "        'project%20management':    'project management',\n",
    "        'security':                'security',\n",
    "        'cryptocurrency':          'cryptocurrency',\n",
    "        'cyber':                   'cyber',\n",
    "        'agile':                   'agile',\n",
    "        'entrepreneur':            'entrepreneur',\n",
    "        'startup':                 'startup',\n",
    "        'artificial intelligence': 'artificial intelligence'\n",
    "    }\n",
    "    CATEGORIES = {\n",
    "        '546': 'Technology',\n",
    "        '405': 'Career & Business',\n",
    "        '604': 'Community & Environment',\n",
    "        '535': 'Games',\n",
    "        '571': 'Hobbies & Passions',\n",
    "        '436': 'Science & Education',\n",
    "        '652': 'Social Activities',\n",
    "        '467': 'Writing',\n",
    "    }\n",
    "\n",
    "    url_date = f'{year}-{month:02d}-{day:02d}'\n",
    "    start_date_parameter = f'customStartDate={url_date}T00%3A00-05%3A00'\n",
    "    end_date_parameter = f'customEndDate={url_date}T23%3A59-05%3A00'\n",
    "    parameters = f'source=EVENTS&{start_date_parameter}&{end_date_parameter}&distance=hundredMiles&location=us--fl--Tampa'\n",
    "\n",
    "    # for keyword in KEYWORDS:\n",
    "    #     print(f\"Reading {KEYWORDS[keyword]} keyword page...\")\n",
    "    #     keyword_page_url = f'{BASE_URL}/?{parameters}&keywords={keyword}'\n",
    "    #     event_urls = event_urls_from_category_or_keyword_page(keyword_page_url)\n",
    "    #     for event_url in event_urls:\n",
    "    #         events.append(event_details_from_event_page(event_url))\n",
    "        \n",
    "    for category in CATEGORIES:\n",
    "        print(f\"Reading {CATEGORIES[category]} category page...\")\n",
    "        category_page_url = f'{BASE_URL}/?{parameters}&categoryId={category}'\n",
    "        event_urls = event_urls_from_category_or_keyword_page(category_page_url)\n",
    "        for event_url in event_urls:\n",
    "            events.append(event_details_from_event_page(event_url))\n",
    "        \n",
    "    return events\n",
    "\n",
    "def sorted_events(events):\n",
    "    \"\"\"\n",
    "    Given a list of event objects, this method returns a new list\n",
    "    containing the event objects sorted in chronological order,\n",
    "    based on the datetime value in each event’s 'datetime' key.\n",
    "    \"\"\"\n",
    "    return sorted(events, key=lambda event:event['datetime'])\n",
    "\n",
    "def event_checkbox_description(event):\n",
    "    return f\"{event['group_name']}: {event['event_name']}\\n\" + \\\n",
    "           f\"{event['display_time']}\\n\"\n",
    "\n",
    "def build_checklist(events):\n",
    "    checklist = {}\n",
    "\n",
    "    for event in events:\n",
    "        checkbox = widgets.Checkbox(\n",
    "            value = True,\n",
    "            description = event_checkbox_description(event),\n",
    "            layout=widgets.Layout(width=\"800px\")\n",
    "        )\n",
    "        checklist[checkbox] = event\n",
    "        \n",
    "    return checklist\n",
    "\n",
    "def display_checklist(checklist):\n",
    "    for item in checklist:\n",
    "        \n",
    "        event = checklist[item]\n",
    "        url = event['event_url']\n",
    "        link = widgets.HTML(\n",
    "            value = f\"<a href={url} target=\\\"_blank\\\">link</a>\"\n",
    "        )\n",
    "        \n",
    "        display(widgets.HBox([item, link]))\n",
    "\n",
    "\n",
    "def remove_duplicate_events(events):\n",
    "    result_event_urls = []\n",
    "    result_events = []\n",
    "    \n",
    "    for event in events:\n",
    "        if event['event_url'] in result_event_urls:\n",
    "            continue\n",
    "        else:\n",
    "            result_event_urls.append(event['event_url'])\n",
    "            result_events.append(event)\n",
    "            \n",
    "    return result_events\n",
    "        \n",
    "def generate_checklist(year, month, day):\n",
    "    print(\"generate_checklist()\")\n",
    "    global checklist\n",
    "    \n",
    "    # date = date_picker.value\n",
    "    # year = date.year\n",
    "    # month = date.month\n",
    "    # day = date.day\n",
    "    \n",
    "    initial_events = meetup_events(year, month, day) #+ eventbrite_events(year, month, day)\n",
    "    print(\"Generated initial events\")\n",
    "    \n",
    "    sorted_filtered_events = sorted_events(\n",
    "        remove_events_with_ignore_names(\n",
    "            remove_duplicate_events(initial_events),\n",
    "            IGNORE_NAMES\n",
    "        )\n",
    "    )\n",
    "    checklist = build_checklist(sorted_filtered_events)\n",
    "    display_checklist(checklist)"
   ]
  },
  {
   "cell_type": "code",
   "execution_count": 10,
   "id": "0068c44d-c1e1-4fa4-a4fd-c224cbf3c111",
   "metadata": {
    "scrolled": true
   },
   "outputs": [
    {
     "name": "stdout",
     "output_type": "stream",
     "text": [
      "generate_checklist()\n",
      "Reading Technology category page...\n",
      "Found CONTAINER_ELEMENT — tag: div, class: grid grid-cols-1 gap-3 sm:grid-cols-2 sm:gap-6 sm:px-6 sm:pt-0 lg:grid-cols-3 xl:grid-cols-4\n",
      "Found 2 elements.\n",
      "{'event_url': 'https://www.meetup.com/beginning-web-development/events/307508955/', 'event_name': 'Weekly General Meetup', 'group_name': 'Beginning Web Development', 'group_url': 'https://www.meetup.com/beginning-web-development/?eventOrigin=event_home_page', 'location': 'Online', 'display_time': '8:00 PM to 9:00 PM EDT', 'datetime': '2025-06-16T20:00:00-04:00'}\n",
      "\n",
      "{'event_url': 'https://www.meetup.com/bitcoinersofsouthwestflorida/events/308097710/', 'event_name': 'Where is Bitcoin Going?', 'group_name': 'Bitcoiners of Southwest Florida', 'group_url': 'https://www.meetup.com/bitcoinersofsouthwestflorida/?eventOrigin=event_home_page', 'location': 'Online', 'display_time': '9:00 PM to 10:00 PM EDT', 'datetime': '2025-06-16T21:00:00-04:00'}\n",
      "\n",
      "Reading Career & Business category page...\n",
      "Found CONTAINER_ELEMENT — tag: div, class: grid grid-cols-1 gap-3 sm:grid-cols-2 sm:gap-6 sm:px-6 sm:pt-0 lg:grid-cols-3 xl:grid-cols-4\n",
      "Found 12 elements.\n",
      "{'event_url': 'https://www.meetup.com/millionaire-mind-networking/events/307152914/', 'event_name': 'Online Zoom! Millionaire Mind Lunch; Book Club and Networking!', 'group_name': 'Money, Mind and Spirit! \"HOLISTIC\" Networking', 'group_url': 'https://www.meetup.com/millionaire-mind-networking/?eventOrigin=event_home_page', 'location': 'Online', 'display_time': '12:00 PM to 1:00 PM EDT', 'datetime': '2025-06-16T12:00:00-04:00'}\n",
      "\n",
      "{'event_url': 'https://www.meetup.com/irefuse2fail/events/308083907/', 'event_name': 'Success Builders Free Business Blog', 'group_name': 'I Refuse 2 Fail Virtual Events', 'group_url': 'https://www.meetup.com/irefuse2fail/?eventOrigin=event_home_page', 'location': 'Online', 'display_time': '9:00 AM to 11:59 PM EDT', 'datetime': '2025-06-16T09:00:00-04:00'}\n",
      "\n",
      "{'event_url': 'https://www.meetup.com/irefuse2fail/events/308102790/', 'event_name': 'Success Builders Free Business Blog', 'group_name': 'I Refuse 2 Fail Virtual Events', 'group_url': 'https://www.meetup.com/irefuse2fail/?eventOrigin=event_home_page', 'location': 'Online', 'display_time': 'Tuesday, June 17, 2025 at 12:00 AM to Monday, June 30, 2025 at 11:59 PM EDT', 'datetime': '2025-06-17T00:00:00-04:00'}\n",
      "\n",
      "{'event_url': 'https://www.meetup.com/rga-networking-professional-business-networking/events/308086416/', 'event_name': 'Trinity Professional Business Networking Lunch Meet your next referral Partner.', 'group_name': 'RGA Networking Professional Business Networking', 'group_url': 'https://www.meetup.com/rga-networking-professional-business-networking/?eventOrigin=event_home_page', 'location': 'Cantina Viagero', 'display_time': '11:30 AM to 1:00 PM EDT', 'datetime': '2025-06-16T11:30:00-04:00'}\n",
      "\n",
      "{'event_url': 'https://www.meetup.com/toastmasters-district-48/events/308413388/', 'event_name': 'Venice Area Toastmasters Club #5486', 'group_name': 'Toastmasters District 48', 'group_url': 'https://www.meetup.com/toastmasters-district-48/?eventOrigin=event_home_page', 'location': 'Online', 'display_time': '7:30 AM to 9:00 AM EDT', 'datetime': '2025-06-16T07:30:00-04:00'}\n",
      "\n",
      "{'event_url': 'https://www.meetup.com/port-richey-networking-und-business-strategie-meetup-group/events/307745234/', 'event_name': 'Real Estate Business Strategies and Networking Event', 'group_name': 'Port Richey Networking und Business Strategie Meetup Group', 'group_url': 'https://www.meetup.com/port-richey-networking-und-business-strategie-meetup-group/?eventOrigin=event_home_page', 'location': 'Online', 'display_time': '6:30 PM to 8:30 PM EDT', 'datetime': '2025-06-16T18:30:00-04:00'}\n",
      "\n",
      "{'event_url': 'https://www.meetup.com/christian-professionals-network/events/308086670/', 'event_name': 'Business Networking Meeting', 'group_name': 'Christian Professionals Network Tampa Bay', 'group_url': 'https://www.meetup.com/christian-professionals-network/?eventOrigin=event_home_page', 'location': 'Online', 'display_time': '11:30 AM to 12:30 PM EDT', 'datetime': '2025-06-16T11:30:00-04:00'}\n",
      "\n",
      "{'event_url': 'https://www.meetup.com/meetup-group-beachreia/events/307515103/', 'event_name': 'SCIN MEETUP: Savvy and Creative Investor Meetup!', 'group_name': 'Beach REIA', 'group_url': 'https://www.meetup.com/meetup-group-beachreia/?eventOrigin=event_home_page', 'location': 'The Breakroom Bar & Grill', 'display_time': '7:00 PM to 9:00 PM EDT', 'datetime': '2025-06-16T19:00:00-04:00'}\n",
      "\n",
      "{'event_url': 'https://www.meetup.com/toastmastersdivisione/events/308096134/', 'event_name': 'Lakeland (FL) Toastmasters Club #2262', 'group_name': 'Toastmasters Division E', 'group_url': 'https://www.meetup.com/toastmastersdivisione/?eventOrigin=event_home_page', 'location': 'MIDFlorida FCU Training Center', 'display_time': '7:00 PM to 8:30 PM EDT', 'datetime': '2025-06-16T19:00:00-04:00'}\n",
      "\n",
      "{'event_url': 'https://www.meetup.com/district-84-division-d-toastmasters/events/308096814/', 'event_name': 'ACE Advanced Toastmasters 3274480', 'group_name': 'Toastmasters Divisions C & D', 'group_url': 'https://www.meetup.com/district-84-division-d-toastmasters/?eventOrigin=event_home_page', 'location': 'Online', 'display_time': '6:00 PM to 7:30 PM EDT', 'datetime': '2025-06-16T18:00:00-04:00'}\n",
      "\n",
      "{'event_url': 'https://www.meetup.com/rga-networking-professional-business-networking/events/308086419/', 'event_name': 'Downtown St. Pete Business Networking Connection Lunch~ All Welcome< JOIN In!', 'group_name': 'RGA Networking Professional Business Networking', 'group_url': 'https://www.meetup.com/rga-networking-professional-business-networking/?eventOrigin=event_home_page', 'location': 'Carrabbas', 'display_time': '11:30 AM to 1:00 PM EDT', 'datetime': '2025-06-16T11:30:00-04:00'}\n",
      "\n",
      "{'event_url': 'https://www.meetup.com/toastmasters-district-48/events/308096103/', 'event_name': 'Toast of Lakewood Ranch Toastmasters Club', 'group_name': 'Toastmasters District 48', 'group_url': 'https://www.meetup.com/toastmasters-district-48/?eventOrigin=event_home_page', 'location': 'Lakewood Ranch Town Hall', 'display_time': '6:30 PM to 7:30 PM EDT', 'datetime': '2025-06-16T18:30:00-04:00'}\n",
      "\n",
      "Reading Community & Environment category page...\n",
      "Failed to find main element.\n",
      "Reading Games category page...\n",
      "Found CONTAINER_ELEMENT — tag: div, class: grid grid-cols-1 gap-3 sm:grid-cols-2 sm:gap-6 sm:px-6 sm:pt-0 lg:grid-cols-3 xl:grid-cols-4\n",
      "Found 5 elements.\n",
      "{'event_url': 'https://www.meetup.com/tampatabletop/events/308095137/', 'event_name': 'Monday Feast & Game Night', 'group_name': 'Tampa Bay Tabletoppers', 'group_url': 'https://www.meetup.com/tampatabletop/?eventOrigin=event_home_page', 'location': 'Village Inn', 'display_time': '6:00 PM to 11:00 PM EDT', 'datetime': '2025-06-16T18:00:00-04:00'}\n",
      "\n",
      "{'event_url': 'https://www.meetup.com/critical-hit-games/events/308093134/', 'event_name': 'MTG: Commander Night', 'group_name': 'Critical Hit Games', 'group_url': 'https://www.meetup.com/critical-hit-games/?eventOrigin=event_home_page', 'location': 'Critical Hit Games', 'display_time': '6:00 PM to 11:00 PM EDT', 'datetime': '2025-06-16T18:00:00-04:00'}\n",
      "\n",
      "{'event_url': 'https://www.meetup.com/tea-tavern-dungeons-dragons-meetup-group/events/308094638/', 'event_name': 'Tea Tavern - Dungeons and Dragons', 'group_name': 'Tea Tavern Dungeons and Dragons Meetup Group - DMS WANTED', 'group_url': 'https://www.meetup.com/tea-tavern-dungeons-dragons-meetup-group/?eventOrigin=event_home_page', 'location': 'Adobe Graffiti Lounge', 'display_time': '6:00 PM to 11:00 PM EDT', 'datetime': '2025-06-16T18:00:00-04:00'}\n",
      "\n",
      "{'event_url': 'https://www.meetup.com/sunshine-games/events/308098764/', 'event_name': 'DigiMondays', 'group_name': 'Sunshine Games', 'group_url': 'https://www.meetup.com/sunshine-games/?eventOrigin=event_home_page', 'location': 'Sunshine Games | Magic the Gathering, Pokémon, Yu-Gi-Oh!', 'display_time': '7:30 PM to 9:30 PM EDT', 'datetime': '2025-06-16T19:30:00-04:00'}\n",
      "\n",
      "{'event_url': 'https://www.meetup.com/nerdbrewevents/events/308092859/', 'event_name': 'Hidden Gems Night, Presented by A Duck!', 'group_name': 'Nerdbrew Events', 'group_url': 'https://www.meetup.com/nerdbrewevents/?eventOrigin=event_home_page', 'location': 'Online', 'display_time': '7:00 PM to 11:00 PM EDT', 'datetime': '2025-06-16T19:00:00-04:00'}\n",
      "\n",
      "Reading Hobbies & Passions category page...\n",
      "Found CONTAINER_ELEMENT — tag: div, class: grid grid-cols-1 gap-3 sm:grid-cols-2 sm:gap-6 sm:px-6 sm:pt-0 lg:grid-cols-3 xl:grid-cols-4\n",
      "Found 1 elements.\n",
      "{'event_url': 'https://www.meetup.com/www-light-study-pro/events/308092767/', 'event_name': 'Members as far back as 2008 can access their photos', 'group_name': 'School is closed- Light Study PRO - A Photography Workshop', 'group_url': 'https://www.meetup.com/www-light-study-pro/?eventOrigin=event_home_page', 'location': 'none', 'display_time': '7:00 PM to 8:00 PM EDT', 'datetime': '2025-06-16T19:00:00-04:00'}\n",
      "\n",
      "Reading Science & Education category page...\n",
      "Failed to find main element.\n",
      "Reading Social Activities category page...\n",
      "Found CONTAINER_ELEMENT — tag: div, class: grid grid-cols-1 gap-3 sm:grid-cols-2 sm:gap-6 sm:px-6 sm:pt-0 lg:grid-cols-3 xl:grid-cols-4\n",
      "Found 6 elements.\n",
      "{'event_url': 'https://www.meetup.com/women-40s-looking-to-get-groove-back-sociale-meetup-group/events/308081494/', 'event_name': 'In Need of a Gym Buddy?', 'group_name': 'Finding Your Tribe in Your 40s: Womens Social Meetup Group', 'group_url': 'https://www.meetup.com/women-40s-looking-to-get-groove-back-sociale-meetup-group/?eventOrigin=event_home_page', 'location': 'Crunch fitness', 'display_time': '5:00 AM to 7:00 AM EDT', 'datetime': '2025-06-16T05:00:00-04:00'}\n",
      "\n",
      "{'event_url': 'https://www.meetup.com/tampa-20s-30s-social-crew/events/308094774/', 'event_name': '💪 FREE HIIT in the Park @ Curtis Hixon, Outdoors (all skills welcome)', 'group_name': \"Tampa 20's and 30's Social Crew\", 'group_url': 'https://www.meetup.com/tampa-20s-30s-social-crew/?eventOrigin=event_home_page', 'location': 'Curtis Hixon Waterfront Park', 'display_time': '6:00 PM to 7:00 PM EDT', 'datetime': '2025-06-16T18:00:00-04:00'}\n",
      "\n",
      "{'event_url': 'https://www.meetup.com/game-night-at-the-brewery/events/308092836/', 'event_name': 'Game Night at the Brewery!', 'group_name': 'Game Night at the Brewery!', 'group_url': 'https://www.meetup.com/game-night-at-the-brewery/?eventOrigin=event_home_page', 'location': 'Anecdote Brewing Company', 'display_time': '6:00 PM to 9:00 PM EDT', 'datetime': '2025-06-16T18:00:00-04:00'}\n",
      "\n",
      "{'event_url': 'https://www.meetup.com/the-pinellas-county-meetup-group/events/308096106/', 'event_name': 'Trivia/Karaoke Night @ Steep Station St Pete (Alternating Mondays)', 'group_name': 'The Pinellas County Meetup Group', 'group_url': 'https://www.meetup.com/the-pinellas-county-meetup-group/?eventOrigin=event_home_page', 'location': 'Online', 'display_time': '7:00 PM to 10:00 PM EDT', 'datetime': '2025-06-16T19:00:00-04:00'}\n",
      "\n",
      "{'event_url': 'https://www.meetup.com/scips-a-50-tampa-bay-singles-club/events/308089883/', 'event_name': \"FUN GAMES in the PRIVATE ROOM at QUEEN'S PIZZA\", 'group_name': 'SCIPS, a 50+ Tampa Bay Singles Club', 'group_url': 'https://www.meetup.com/scips-a-50-tampa-bay-singles-club/?eventOrigin=event_home_page', 'location': \"Queen's Pizza & Restaurant.\", 'display_time': '3:00 PM to 5:00 PM EDT', 'datetime': '2025-06-16T15:00:00-04:00'}\n",
      "\n",
      "{'event_url': 'https://www.meetup.com/scips-a-50-tampa-bay-singles-club/events/307233629/', 'event_name': 'Happy Singles Eat Out on Mondays', 'group_name': 'SCIPS, a 50+ Tampa Bay Singles Club', 'group_url': 'https://www.meetup.com/scips-a-50-tampa-bay-singles-club/?eventOrigin=event_home_page', 'location': \"Queen's Pizza & Restaurant.\", 'display_time': '5:00 PM to 7:00 PM EDT', 'datetime': '2025-06-16T17:00:00-04:00'}\n",
      "\n",
      "Reading Writing category page...\n",
      "Found CONTAINER_ELEMENT — tag: div, class: grid grid-cols-1 gap-3 sm:grid-cols-2 sm:gap-6 sm:px-6 sm:pt-0 lg:grid-cols-3 xl:grid-cols-4\n",
      "Found 1 elements.\n",
      "{'event_url': 'https://www.meetup.com/shutupandwriteorlando/events/308095939/', 'event_name': 'Shut Up & Write!® Dr. Phillips/Orlando', 'group_name': 'Shut Up & Write!® Orlando', 'group_url': 'https://www.meetup.com/shutupandwriteorlando/?eventOrigin=event_home_page', 'location': 'Foxtail Coffee', 'display_time': '6:30 PM to 8:00 PM EDT', 'datetime': '2025-06-16T18:30:00-04:00'}\n",
      "\n",
      "Generated initial events\n"
     ]
    },
    {
     "data": {
      "application/vnd.jupyter.widget-view+json": {
       "model_id": "0ecb16e131b846b493fd25ad0c98bc7b",
       "version_major": 2,
       "version_minor": 0
      },
      "text/plain": [
       "HBox(children=(Checkbox(value=True, description='Toastmasters District 48: Venice Area Toastmasters Club #5486…"
      ]
     },
     "metadata": {},
     "output_type": "display_data"
    },
    {
     "data": {
      "application/vnd.jupyter.widget-view+json": {
       "model_id": "9f296f9da77b4d9396a44887c940b6d7",
       "version_major": 2,
       "version_minor": 0
      },
      "text/plain": [
       "HBox(children=(Checkbox(value=True, description='RGA Networking Professional Business Networking: Trinity Prof…"
      ]
     },
     "metadata": {},
     "output_type": "display_data"
    },
    {
     "data": {
      "application/vnd.jupyter.widget-view+json": {
       "model_id": "66b74785453b4b8693454286b13772b6",
       "version_major": 2,
       "version_minor": 0
      },
      "text/plain": [
       "HBox(children=(Checkbox(value=True, description='Christian Professionals Network Tampa Bay: Business Networkin…"
      ]
     },
     "metadata": {},
     "output_type": "display_data"
    },
    {
     "data": {
      "application/vnd.jupyter.widget-view+json": {
       "model_id": "6f85e8f832db4eb5aff2a626ec1d9ffa",
       "version_major": 2,
       "version_minor": 0
      },
      "text/plain": [
       "HBox(children=(Checkbox(value=True, description='RGA Networking Professional Business Networking: Downtown St.…"
      ]
     },
     "metadata": {},
     "output_type": "display_data"
    },
    {
     "data": {
      "application/vnd.jupyter.widget-view+json": {
       "model_id": "20fb05ad59864e7baac7d22782a52a01",
       "version_major": 2,
       "version_minor": 0
      },
      "text/plain": [
       "HBox(children=(Checkbox(value=True, description='Toastmasters Divisions C & D: ACE Advanced Toastmasters 32744…"
      ]
     },
     "metadata": {},
     "output_type": "display_data"
    },
    {
     "data": {
      "application/vnd.jupyter.widget-view+json": {
       "model_id": "b62b6ef950aa4d2287eb1569ab1fdc8b",
       "version_major": 2,
       "version_minor": 0
      },
      "text/plain": [
       "HBox(children=(Checkbox(value=True, description='Tampa Bay Tabletoppers: Monday Feast & Game Night\\n6:00 PM to…"
      ]
     },
     "metadata": {},
     "output_type": "display_data"
    },
    {
     "data": {
      "application/vnd.jupyter.widget-view+json": {
       "model_id": "f6ce3e2732d041cd97ab33a659626041",
       "version_major": 2,
       "version_minor": 0
      },
      "text/plain": [
       "HBox(children=(Checkbox(value=True, description='Critical Hit Games: MTG: Commander Night\\n6:00 PM to 11:00 PM…"
      ]
     },
     "metadata": {},
     "output_type": "display_data"
    },
    {
     "data": {
      "application/vnd.jupyter.widget-view+json": {
       "model_id": "7d09922d316d42b5b720a72535f80fac",
       "version_major": 2,
       "version_minor": 0
      },
      "text/plain": [
       "HBox(children=(Checkbox(value=True, description='Tea Tavern Dungeons and Dragons Meetup Group - DMS WANTED: Te…"
      ]
     },
     "metadata": {},
     "output_type": "display_data"
    },
    {
     "data": {
      "application/vnd.jupyter.widget-view+json": {
       "model_id": "f8f1733ff23f41c6a9512eaa4045639f",
       "version_major": 2,
       "version_minor": 0
      },
      "text/plain": [
       "HBox(children=(Checkbox(value=True, description=\"Tampa 20's and 30's Social Crew: 💪 FREE HIIT in the Park @ Cu…"
      ]
     },
     "metadata": {},
     "output_type": "display_data"
    },
    {
     "data": {
      "application/vnd.jupyter.widget-view+json": {
       "model_id": "ac3bafe64b514738bfc22b9e5b9a561b",
       "version_major": 2,
       "version_minor": 0
      },
      "text/plain": [
       "HBox(children=(Checkbox(value=True, description='Game Night at the Brewery!: Game Night at the Brewery!\\n6:00 …"
      ]
     },
     "metadata": {},
     "output_type": "display_data"
    },
    {
     "data": {
      "application/vnd.jupyter.widget-view+json": {
       "model_id": "c656a29f44f5441fbf9a0b723cde1c70",
       "version_major": 2,
       "version_minor": 0
      },
      "text/plain": [
       "HBox(children=(Checkbox(value=True, description='Toastmasters District 48: Toast of Lakewood Ranch Toastmaster…"
      ]
     },
     "metadata": {},
     "output_type": "display_data"
    },
    {
     "data": {
      "application/vnd.jupyter.widget-view+json": {
       "model_id": "8091610b8f244d5485feb06a5d2ab70d",
       "version_major": 2,
       "version_minor": 0
      },
      "text/plain": [
       "HBox(children=(Checkbox(value=True, description='Toastmasters Division E: Lakeland (FL) Toastmasters Club #226…"
      ]
     },
     "metadata": {},
     "output_type": "display_data"
    },
    {
     "data": {
      "application/vnd.jupyter.widget-view+json": {
       "model_id": "2e0d4df3e46e4846ab705a85a001abcb",
       "version_major": 2,
       "version_minor": 0
      },
      "text/plain": [
       "HBox(children=(Checkbox(value=True, description='Nerdbrew Events: Hidden Gems Night, Presented by A Duck!\\n7:0…"
      ]
     },
     "metadata": {},
     "output_type": "display_data"
    },
    {
     "data": {
      "application/vnd.jupyter.widget-view+json": {
       "model_id": "dec76f652a674fd0bef2546cb7b9d310",
       "version_major": 2,
       "version_minor": 0
      },
      "text/plain": [
       "HBox(children=(Checkbox(value=True, description='School is closed- Light Study PRO - A Photography Workshop: M…"
      ]
     },
     "metadata": {},
     "output_type": "display_data"
    },
    {
     "data": {
      "application/vnd.jupyter.widget-view+json": {
       "model_id": "ca25971401bd49fb986458f2226eca54",
       "version_major": 2,
       "version_minor": 0
      },
      "text/plain": [
       "HBox(children=(Checkbox(value=True, description='Sunshine Games: DigiMondays\\n7:30 PM to 9:30 PM EDT\\n', layou…"
      ]
     },
     "metadata": {},
     "output_type": "display_data"
    },
    {
     "data": {
      "application/vnd.jupyter.widget-view+json": {
       "model_id": "bff2f554e6e8477ab008db35756e5ece",
       "version_major": 2,
       "version_minor": 0
      },
      "text/plain": [
       "HBox(children=(Checkbox(value=True, description='Beginning Web Development: Weekly General Meetup\\n8:00 PM to …"
      ]
     },
     "metadata": {},
     "output_type": "display_data"
    },
    {
     "data": {
      "application/vnd.jupyter.widget-view+json": {
       "model_id": "c1a88b7c943347f689afccafb44a7044",
       "version_major": 2,
       "version_minor": 0
      },
      "text/plain": [
       "HBox(children=(Checkbox(value=True, description='Bitcoiners of Southwest Florida: Where is Bitcoin Going?\\n9:0…"
      ]
     },
     "metadata": {},
     "output_type": "display_data"
    }
   ],
   "source": [
    "generate_checklist(2025, 6, 16)"
   ]
  },
  {
   "cell_type": "markdown",
   "id": "ead056d9",
   "metadata": {},
   "source": [
    "## The table generator: _Run after checking the checklist!_"
   ]
  },
  {
   "cell_type": "code",
   "execution_count": null,
   "id": "f58c5e45",
   "metadata": {},
   "outputs": [],
   "source": [
    "def get_checked_items(checklist):\n",
    "    checked_items = []\n",
    "    \n",
    "    for checkbox in checklist:\n",
    "        if checkbox.value:\n",
    "            checked_items.append(checklist[checkbox])\n",
    "            \n",
    "    return checked_items\n",
    "\n",
    "def checked_items_to_html_table(checked_items):\n",
    "    event_html_table = \"\"\"<table><tr><th>Event name and location</th><th>Group</th><th width=\"20%\">Time</th></tr>\"\"\"\n",
    "    \n",
    "    for event in checked_items:\n",
    "        event_html_table += f\"\"\"<tr><td><strong><a href=\\\"{event['event_url']}\\\">{event['event_name']}</a></strong><br /><small>{event['location']}</small></p></td><td><a href=\\\"{event['group_url']}\\\">{event['group_name']}</a></td><td><small>{event['display_time']}</small></td></tr>\"\"\"\n",
    "    \n",
    "    event_html_table += \"\"\"<tr><td colspan=\"3\"><a href=\"#top\">Return to the top of the list</a></td></tr></table>\"\"\"\n",
    "    \n",
    "    pyperclip.copy(event_html_table)\n",
    "    return event_html_table\n",
    "\n",
    "def checked_items_to_unordered_list(checked_items):\n",
    "    event_unordered_list = \"<ul>\"\n",
    "    \n",
    "    for event in checked_items:\n",
    "        event_unordered_list += f\"<li>{event['display_time']}: <strong><a href=\\\"{event['event_url']}\\\">{event['event_name']}</a></strong> ({event['location']}) - <a href=\\\"{event['group_url']}\\\">{event['group_name']}</a></li>\\n\"\n",
    "\n",
    "    event_unordered_list += \"</ul>\"\n",
    "    pyperclip.copy(event_unordered_list)\n",
    "    return event_unordered_list\n",
    "    \n",
    "table = checked_items_to_html_table(get_checked_items(checklist))\n",
    "table"
   ]
  }
 ],
 "metadata": {
  "kernelspec": {
   "display_name": "Python 3",
   "language": "python",
   "name": "python3"
  },
  "language_info": {
   "codemirror_mode": {
    "name": "ipython",
    "version": 3
   },
   "file_extension": ".py",
   "mimetype": "text/x-python",
   "name": "python",
   "nbconvert_exporter": "python",
   "pygments_lexer": "ipython3",
   "version": "3.12.4"
  }
 },
 "nbformat": 4,
 "nbformat_minor": 5
}
